{
 "cells": [
  {
   "cell_type": "markdown",
   "id": "35636475",
   "metadata": {},
   "source": [
    "# Функции и библиотеки"
   ]
  },
  {
   "cell_type": "code",
   "execution_count": 1,
   "id": "78879031",
   "metadata": {},
   "outputs": [],
   "source": [
    "import networkx as nx\n",
    "import matplotlib.pyplot as plt\n",
    "import pandas as pd\n",
    "%matplotlib inline"
   ]
  },
  {
   "cell_type": "markdown",
   "id": "3cac5c31",
   "metadata": {},
   "source": [
    "# Загрузка данных, количество ребер и вершин; плотность"
   ]
  },
  {
   "cell_type": "code",
   "execution_count": 2,
   "id": "0764442d",
   "metadata": {},
   "outputs": [],
   "source": [
    "vk_dataset = pd.read_csv('../datasets/vk.csv')\n",
    "edges = [(str(node1), str(node2)) for node1, node2 in zip(vk_dataset.u.tolist(), vk_dataset.v.tolist())]"
   ]
  },
  {
   "cell_type": "code",
   "execution_count": 3,
   "id": "c002d708",
   "metadata": {},
   "outputs": [
    {
     "name": "stdout",
     "output_type": "stream",
     "text": [
      "Wall time: 15min 33s\n"
     ]
    }
   ],
   "source": [
    "%%time\n",
    "\n",
    "G = nx.Graph(edges)"
   ]
  },
  {
   "cell_type": "code",
   "execution_count": 4,
   "id": "f6bf36d4",
   "metadata": {},
   "outputs": [
    {
     "name": "stdout",
     "output_type": "stream",
     "text": [
      "Количество вершин:  3215720\n",
      "Количество ребер:  17414510\n",
      "Плотность графа:  3.368099681514005e-06\n"
     ]
    }
   ],
   "source": [
    "print('Количество вершин: ', G.number_of_nodes())\n",
    "print('Количество ребер: ', G.number_of_edges())\n",
    "print('Плотность графа: ', nx.density(G))"
   ]
  },
  {
   "cell_type": "markdown",
   "id": "c8c1c013",
   "metadata": {},
   "source": [
    "# Количество компонент связности, характеристики наибольшей компоненты"
   ]
  },
  {
   "cell_type": "code",
   "execution_count": 5,
   "id": "c296357a",
   "metadata": {},
   "outputs": [
    {
     "name": "stdout",
     "output_type": "stream",
     "text": [
      "Wall time: 26min 14s\n",
      "Parser   : 752 ms\n"
     ]
    }
   ],
   "source": [
    "%%time\n",
    "cc_number = nx.number_connected_components(G)\n",
    "largest_component = G.subgraph(nodes=max(nx.connected_components(G), key=len))"
   ]
  },
  {
   "cell_type": "code",
   "execution_count": 6,
   "id": "bac66d7f",
   "metadata": {},
   "outputs": [
    {
     "name": "stdout",
     "output_type": "stream",
     "text": [
      "Число компонент связности - 24337\n",
      "Наибольшая компонента состоит из 3162217 вершин и 17378782 ребер\n"
     ]
    }
   ],
   "source": [
    "print(f'Число компонент связности - {cc_number}')\n",
    "print(f'Наибольшая компонента состоит из {largest_component.number_of_nodes()} вершин ' \\\n",
    "      f'и {largest_component.number_of_edges()} ребер')"
   ]
  },
  {
   "cell_type": "markdown",
   "id": "b70be27c",
   "metadata": {},
   "source": [
    "# Метрические характеристики графа: диаметр, радиус"
   ]
  },
  {
   "cell_type": "code",
   "execution_count": 7,
   "id": "3c4c4f4d",
   "metadata": {},
   "outputs": [
    {
     "name": "stdout",
     "output_type": "stream",
     "text": [
      "Wall time: 0 ns\n"
     ]
    }
   ],
   "source": [
    "%%time\n",
    "# diam = nx.diameter(largest_component)\n",
    "# radius = nx.radius(largest_component)"
   ]
  },
  {
   "cell_type": "code",
   "execution_count": 8,
   "id": "aeb8e173",
   "metadata": {},
   "outputs": [],
   "source": [
    "# print(f'Диаметр наибольшей компоненты - {diam}')\n",
    "# print(f'Радиус наибольшей компоненты - {radius}')"
   ]
  },
  {
   "cell_type": "markdown",
   "id": "8b6a183b",
   "metadata": {},
   "source": [
    "# Функция вероятности для степени узла в графе\n",
    "Минимальная, максимальная, средняя степень узла в графе. Надо построить функцию вероятности (можно в виде гистограммы относительных частот)"
   ]
  },
  {
   "cell_type": "code",
   "execution_count": 9,
   "id": "023805b2",
   "metadata": {},
   "outputs": [
    {
     "name": "stdout",
     "output_type": "stream",
     "text": [
      "Wall time: 2min 22s\n",
      "Compiler : 23 s\n"
     ]
    }
   ],
   "source": [
    "%%time\n",
    "degrees = list(map(lambda elem: elem[1], list(G.degree())))\n",
    "max_deg = max(degrees)\n",
    "min_deg = min(degrees)\n",
    "mean_deg = int(sum(degrees)/ len(degrees))"
   ]
  },
  {
   "cell_type": "code",
   "execution_count": 10,
   "id": "d8bf5d27",
   "metadata": {},
   "outputs": [
    {
     "name": "stdout",
     "output_type": "stream",
     "text": [
      "Максимальная степень узла: 6503\n",
      "Минимальная степень узла: 1\n",
      "Средняя степень узла: 10\n"
     ]
    }
   ],
   "source": [
    "print('Максимальная степень узла:', max(degrees))\n",
    "print('Минимальная степень узла:', min(degrees))\n",
    "print('Средняя степень узла:', int(sum(degrees)/len(degrees)))"
   ]
  },
  {
   "cell_type": "markdown",
   "id": "979d3878",
   "metadata": {},
   "source": [
    "# Число треугольников, глобальный и кластерный коэффициенты"
   ]
  },
  {
   "cell_type": "code",
   "execution_count": 11,
   "id": "2d59b42e",
   "metadata": {},
   "outputs": [
    {
     "name": "stdout",
     "output_type": "stream",
     "text": [
      "Wall time: 1h 26min 4s\n"
     ]
    }
   ],
   "source": [
    "%%time\n",
    "n_of_triangles = sum(nx.triangles(G).values()) / 3"
   ]
  },
  {
   "cell_type": "code",
   "execution_count": 12,
   "id": "05c1ede0",
   "metadata": {},
   "outputs": [
    {
     "name": "stdout",
     "output_type": "stream",
     "text": [
      "Wall time: 1h 22min 1s\n"
     ]
    }
   ],
   "source": [
    "%%time\n",
    "average_coef = nx.average_clustering(G)"
   ]
  },
  {
   "cell_type": "code",
   "execution_count": 13,
   "id": "8d872213",
   "metadata": {},
   "outputs": [
    {
     "name": "stdout",
     "output_type": "stream",
     "text": [
      "Число треугольников в графе - 108030337.0\n",
      "Средний кластерный коэффициент сети - 0.04938048748192238\n"
     ]
    }
   ],
   "source": [
    "print(f'Число треугольников в графе - {n_of_triangles}')\n",
    "print(f'Средний кластерный коэффициент сети - {average_coef}')"
   ]
  }
 ],
 "metadata": {
  "kernelspec": {
   "display_name": "Python 3",
   "language": "python",
   "name": "python3"
  },
  "language_info": {
   "codemirror_mode": {
    "name": "ipython",
    "version": 3
   },
   "file_extension": ".py",
   "mimetype": "text/x-python",
   "name": "python",
   "nbconvert_exporter": "python",
   "pygments_lexer": "ipython3",
   "version": "3.8.8"
  },
  "toc": {
   "base_numbering": 1,
   "nav_menu": {},
   "number_sections": true,
   "sideBar": true,
   "skip_h1_title": false,
   "title_cell": "Table of Contents",
   "title_sidebar": "Contents",
   "toc_cell": false,
   "toc_position": {},
   "toc_section_display": true,
   "toc_window_display": false
  }
 },
 "nbformat": 4,
 "nbformat_minor": 5
}
