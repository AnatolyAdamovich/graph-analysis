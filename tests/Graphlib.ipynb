{
 "cells": [
  {
   "cell_type": "markdown",
   "id": "84c1b0df",
   "metadata": {},
   "source": [
    "# Библиотеки"
   ]
  },
  {
   "cell_type": "code",
   "execution_count": 2,
   "id": "948ef99d",
   "metadata": {},
   "outputs": [],
   "source": [
    "import os\n",
    "import sys\n",
    "module_path = os.path.abspath(os.path.join('..'))\n",
    "if module_path not in sys.path:\n",
    "    sys.path.append(module_path)"
   ]
  },
  {
   "cell_type": "code",
   "execution_count": 3,
   "id": "03523068",
   "metadata": {},
   "outputs": [],
   "source": [
    "import graphlib.algorithms as alg\n",
    "import graphlib.tools as tls\n",
    "from graphlib.structures import Graph, Digraph"
   ]
  },
  {
   "cell_type": "markdown",
   "id": "844e9a94",
   "metadata": {},
   "source": [
    "# Набор данных soc-wiki-Vote\n",
    "## Загрузка"
   ]
  },
  {
   "cell_type": "code",
   "execution_count": 33,
   "id": "1adf2e9e",
   "metadata": {},
   "outputs": [
    {
     "name": "stdout",
     "output_type": "stream",
     "text": [
      "Ориентированный граф <soc-wiki-Vote> с 890 вершинами and 2914 ребрами\n"
     ]
    }
   ],
   "source": [
    "G = Digraph('soc-wiki-Vote')\n",
    "with open('soc-wiki-Vote.txt', mode='r') as f:\n",
    "    for line in f:\n",
    "        u, v = line.split()\n",
    "        G.add_edge(u, v)\n",
    "print(G)"
   ]
  },
  {
   "cell_type": "markdown",
   "id": "c127d950",
   "metadata": {},
   "source": [
    "## Число компонент сильной и слабой связности и характеристики наибольших"
   ]
  },
  {
   "cell_type": "code",
   "execution_count": 34,
   "id": "693c7e86",
   "metadata": {},
   "outputs": [
    {
     "name": "stdout",
     "output_type": "stream",
     "text": [
      "Число компонент слабой связности - 1\n",
      "Наибольшая компонента слабой связности: \n",
      "   -Вершин: 890\n",
      "   -Ребер: 2914\n"
     ]
    }
   ],
   "source": [
    "number, largest_index, wcc = alg.weakly_components(G, largest=True)\n",
    "print(f'Число компонент слабой связности - {number}')\n",
    "\n",
    "largest_weak = G.subgraph(nodes=wcc[largest_index])\n",
    "print('Наибольшая компонента слабой связности: ')\n",
    "print(f'   -Вершин: {largest_weak.nodes_count}\\n   -Ребер: {largest_weak.edges_count}')"
   ]
  },
  {
   "cell_type": "code",
   "execution_count": 35,
   "id": "6c95499f",
   "metadata": {},
   "outputs": [
    {
     "name": "stdout",
     "output_type": "stream",
     "text": [
      "Число компонент сильной связности - 890\n",
      "Наибольшая компонента сильной связности: \n",
      "   -Вершин: 1\n",
      "   -Ребер: 0\n"
     ]
    }
   ],
   "source": [
    "scc = list(alg.strongly_components_tarjan(G))\n",
    "print(f'Число компонент сильной связности - {len(scc)}')\n",
    "\n",
    "largest_component_nodes = list(max(scc, key=lambda elem: len(elem)))\n",
    "largest_strong = G.subgraph(nodes=largest_component_nodes)\n",
    "print('Наибольшая компонента сильной связности: ')\n",
    "print(f'   -Вершин: {largest_strong.nodes_count}\\n   -Ребер: {largest_strong.edges_count}')"
   ]
  },
  {
   "cell_type": "markdown",
   "id": "de1b7685",
   "metadata": {},
   "source": [
    "## Перевод в простой граф"
   ]
  },
  {
   "cell_type": "code",
   "execution_count": 36,
   "id": "8d4b5154",
   "metadata": {},
   "outputs": [
    {
     "name": "stdout",
     "output_type": "stream",
     "text": [
      "Граф <неориентированный граф, лежащий в основе soc-wiki-Vote> с 890 вершинами and 2914 ребрами\n"
     ]
    }
   ],
   "source": [
    "G = G.to_simple()\n",
    "\n",
    "number, largest_index, components = alg.DFS_with_cc(G, largest=True)\n",
    "largest_component = G.subgraph(nodes=components[largest_index])\n",
    "print(G)"
   ]
  },
  {
   "cell_type": "markdown",
   "id": "9d59cbca",
   "metadata": {},
   "source": [
    "## Диаметр, перцентиль"
   ]
  },
  {
   "cell_type": "code",
   "execution_count": 37,
   "id": "f502d5ad",
   "metadata": {},
   "outputs": [
    {
     "name": "stdout",
     "output_type": "stream",
     "text": [
      "Реальный диаметр: 13\n"
     ]
    }
   ],
   "source": [
    "print(f'Реальный диаметр: {tls.diameter(G)}')"
   ]
  },
  {
   "cell_type": "code",
   "execution_count": 38,
   "id": "aa5cdad7",
   "metadata": {},
   "outputs": [
    {
     "name": "stdout",
     "output_type": "stream",
     "text": [
      "Диаметр наибольшей компоненты (приближенно): 12\n",
      "Радиус наибольшей компоненты (приближенно): 7\n",
      "90% процентиль геодезического расстояния в наибольшей компоненте (приближенно): 6\n"
     ]
    }
   ],
   "source": [
    "diam, radius, percentile = tls.approximate_statistic(graph=largest_component, number=500, percent=90)\n",
    "print(f'Диаметр наибольшей компоненты (приближенно): {diam}')\n",
    "print(f'Радиус наибольшей компоненты (приближенно): {radius}')\n",
    "print(f'90% процентиль геодезического расстояния в наибольшей компоненте (приближенно): {percentile}')"
   ]
  },
  {
   "cell_type": "markdown",
   "id": "67a4aa56",
   "metadata": {},
   "source": [
    "## Число треугольников, кластерные коэффициенты"
   ]
  },
  {
   "cell_type": "code",
   "execution_count": 39,
   "id": "886368bc",
   "metadata": {},
   "outputs": [
    {
     "name": "stdout",
     "output_type": "stream",
     "text": [
      "Число треугольников (K_3) в графе: 2118\n",
      "Средний кластерный коэффициент сети: 0.15117887310544095\n",
      "Глобальный кластерный коэффициент сети: 0.12734998196175892\n"
     ]
    }
   ],
   "source": [
    "n_of_triangles = tls.number_of_triangles(G)\n",
    "average_cluster_coef = tls.average_clustering_coefficient(G)\n",
    "global_cluster_coef = tls.global_clustering_coefficient(G)\n",
    "\n",
    "print(f'Число треугольников (K_3) в графе: {n_of_triangles}')\n",
    "print(f'Средний кластерный коэффициент сети: {average_cluster_coef}')\n",
    "print(f'Глобальный кластерный коэффициент сети: {global_cluster_coef}')"
   ]
  },
  {
   "cell_type": "markdown",
   "id": "60cb1958",
   "metadata": {},
   "source": [
    "## Вычисление расстояния между парой вершин"
   ]
  },
  {
   "cell_type": "code",
   "execution_count": 32,
   "id": "2ac95725",
   "metadata": {},
   "outputs": [
    {
     "name": "stdout",
     "output_type": "stream",
     "text": [
      "Help on function BFS_search in module graphlib.algorithms.BFS:\n",
      "\n",
      "BFS_search(graph, start_u, finish_v, length=False)\n",
      "    Поиск в ширину для нахождения кратчайшего геодезического расстояния между двумя вершинами.\n",
      "    \n",
      "    Parameters:\n",
      "    ----------\n",
      "        graph : graphlib.structure.Graph\n",
      "            неориентированный граф\n",
      "        start_u : any\n",
      "            стартовая вершина\n",
      "        finish_v : any\n",
      "            конечная вершина\n",
      "        length : bool\n",
      "            если True, то возвращает геодезического расстояние между вершинами\n",
      "    \n",
      "    Returns:\n",
      "    ----------\n",
      "        path: list\n",
      "            путь от start_u до finish_v в виде списка вершин; если пути не обнаружено, то None\n",
      "    \n",
      "    Examples:\n",
      "    ----------\n",
      "        BFS_search(G, 'A', 'B') = ['A', 'C', 'D', 'B']\n",
      "    \n",
      "        BFS_search(G, 'A', 'B', length=True) = 3\n",
      "\n"
     ]
    }
   ],
   "source": [
    "help(alg.BFS_search)"
   ]
  },
  {
   "cell_type": "code",
   "execution_count": 40,
   "id": "77fb0f51",
   "metadata": {},
   "outputs": [],
   "source": [
    "# alg.BFS_search(G, start_u=, finish_v=, lenght=True)"
   ]
  },
  {
   "cell_type": "markdown",
   "id": "b8636c11",
   "metadata": {},
   "source": [
    "# Набор данных email-Eu-core\n",
    "## Загрузка"
   ]
  },
  {
   "cell_type": "code",
   "execution_count": 41,
   "id": "b1081233",
   "metadata": {},
   "outputs": [
    {
     "name": "stdout",
     "output_type": "stream",
     "text": [
      "Ориентированный граф <email-Eu-core> с 1005 вершинами and 25571 ребрами\n"
     ]
    }
   ],
   "source": [
    "G = Digraph('email-Eu-core')\n",
    "with open('email-Eu-core.txt', mode='r') as f:\n",
    "    for line in f:\n",
    "        u, v = line.split()\n",
    "        G.add_edge(u, v)\n",
    "print(G)"
   ]
  },
  {
   "cell_type": "markdown",
   "id": "5c63a77b",
   "metadata": {},
   "source": [
    "## Число компонент сильной и слабой связности и характеристики наибольших"
   ]
  },
  {
   "cell_type": "code",
   "execution_count": 42,
   "id": "43cbd720",
   "metadata": {},
   "outputs": [
    {
     "name": "stdout",
     "output_type": "stream",
     "text": [
      "Число компонент слабой связности - 20\n",
      "Наибольшая компонента слабой связности: \n",
      "   -Вершин: 986\n",
      "   -Ребер: 25552\n"
     ]
    }
   ],
   "source": [
    "number, largest_index, wcc = alg.weakly_components(G, largest=True)\n",
    "print(f'Число компонент слабой связности - {number}')\n",
    "\n",
    "largest_weak = G.subgraph(nodes=wcc[largest_index])\n",
    "print('Наибольшая компонента слабой связности: ')\n",
    "print(f'   -Вершин: {largest_weak.nodes_count}\\n   -Ребер: {largest_weak.edges_count}')"
   ]
  },
  {
   "cell_type": "code",
   "execution_count": 43,
   "id": "2dddf99b",
   "metadata": {},
   "outputs": [
    {
     "name": "stdout",
     "output_type": "stream",
     "text": [
      "Число компонент сильной связности - 203\n",
      "Наибольшая компонента сильной связности: \n",
      "   -Вершин: 803\n",
      "   -Ребер: 24729\n"
     ]
    }
   ],
   "source": [
    "scc = list(alg.strongly_components_tarjan(G))\n",
    "print(f'Число компонент сильной связности - {len(scc)}')\n",
    "\n",
    "largest_component_nodes = list(max(scc, key=lambda elem: len(elem)))\n",
    "largest_strong = G.subgraph(nodes=largest_component_nodes)\n",
    "print('Наибольшая компонента сильной связности: ')\n",
    "print(f'   -Вершин: {largest_strong.nodes_count}\\n   -Ребер: {largest_strong.edges_count}')"
   ]
  },
  {
   "cell_type": "markdown",
   "id": "d9c11e34",
   "metadata": {},
   "source": [
    "## Перевод в простой граф"
   ]
  },
  {
   "cell_type": "code",
   "execution_count": 44,
   "id": "7c480bcf",
   "metadata": {},
   "outputs": [
    {
     "name": "stdout",
     "output_type": "stream",
     "text": [
      "Граф <неориентированный граф, лежащий в основе email-Eu-core> с 1005 вершинами and 16706 ребрами\n"
     ]
    }
   ],
   "source": [
    "G = G.to_simple()\n",
    "\n",
    "number, largest_index, components = alg.DFS_with_cc(G, largest=True)\n",
    "largest_component = G.subgraph(nodes=components[largest_index])\n",
    "print(G)"
   ]
  },
  {
   "cell_type": "markdown",
   "id": "75cf1a8e",
   "metadata": {},
   "source": [
    "## Диаметр, перцентиль"
   ]
  },
  {
   "cell_type": "code",
   "execution_count": 45,
   "id": "3ddd2c15",
   "metadata": {},
   "outputs": [
    {
     "name": "stdout",
     "output_type": "stream",
     "text": [
      "Реальный диаметр: 7\n"
     ]
    }
   ],
   "source": [
    "print(f'Реальный диаметр: {tls.diameter(G)}')"
   ]
  },
  {
   "cell_type": "code",
   "execution_count": 46,
   "id": "cbecb208",
   "metadata": {},
   "outputs": [
    {
     "name": "stdout",
     "output_type": "stream",
     "text": [
      "Диаметр наибольшей компоненты (приближенно): 7\n",
      "Радиус наибольшей компоненты (приближенно): 4\n",
      "90% процентиль геодезического расстояния в наибольшей компоненте (приближенно): 3\n"
     ]
    }
   ],
   "source": [
    "diam, radius, percentile = tls.approximate_statistic(graph=largest_component, number=500, percent=90)\n",
    "print(f'Диаметр наибольшей компоненты (приближенно): {diam}')\n",
    "print(f'Радиус наибольшей компоненты (приближенно): {radius}')\n",
    "print(f'90% процентиль геодезического расстояния в наибольшей компоненте (приближенно): {percentile}')"
   ]
  },
  {
   "cell_type": "markdown",
   "id": "5bf23c6c",
   "metadata": {},
   "source": [
    "## Число треугольников, кластерные коэффициенты"
   ]
  },
  {
   "cell_type": "code",
   "execution_count": 47,
   "id": "ffae1d74",
   "metadata": {},
   "outputs": [
    {
     "name": "stdout",
     "output_type": "stream",
     "text": [
      "Число треугольников (K_3) в графе: 105461\n",
      "Средний кластерный коэффициент сети: 0.3993549664221545\n",
      "Глобальный кластерный коэффициент сети: 0.26739242877040204\n"
     ]
    }
   ],
   "source": [
    "n_of_triangles = tls.number_of_triangles(G)\n",
    "average_cluster_coef = tls.average_clustering_coefficient(G)\n",
    "global_cluster_coef = tls.global_clustering_coefficient(G)\n",
    "\n",
    "print(f'Число треугольников (K_3) в графе: {n_of_triangles}')\n",
    "print(f'Средний кластерный коэффициент сети: {average_cluster_coef}')\n",
    "print(f'Глобальный кластерный коэффициент сети: {global_cluster_coef}')"
   ]
  },
  {
   "cell_type": "markdown",
   "id": "0eff4558",
   "metadata": {},
   "source": [
    "## Вычисление расстояния между парой вершин"
   ]
  },
  {
   "cell_type": "code",
   "execution_count": null,
   "id": "b5a600f9",
   "metadata": {},
   "outputs": [],
   "source": [
    "# alg.BFS_search(G, start_u=, finish_v=, lenght=True)"
   ]
  },
  {
   "cell_type": "markdown",
   "id": "b79c1c4c",
   "metadata": {},
   "source": [
    "# Набор данных Middlebury\n",
    "## Загрузка"
   ]
  },
  {
   "cell_type": "code",
   "execution_count": 17,
   "id": "c69c3362",
   "metadata": {},
   "outputs": [
    {
     "name": "stdout",
     "output_type": "stream",
     "text": [
      "Граф <Middlebury> с 3076 вершинами and 124610 ребрами\n"
     ]
    }
   ],
   "source": [
    "G = Graph('Middlebury')\n",
    "with open('socfb-Middlebury45.txt', mode='r') as f:\n",
    "    for line in f:\n",
    "        u, v = line.split()\n",
    "        G.add_edge(u, v)\n",
    "print(G)"
   ]
  },
  {
   "cell_type": "markdown",
   "id": "19656aa2",
   "metadata": {},
   "source": [
    "## Число компонент связности и характеристики наибольшей"
   ]
  },
  {
   "cell_type": "code",
   "execution_count": 18,
   "id": "1c286b9f",
   "metadata": {},
   "outputs": [
    {
     "name": "stdout",
     "output_type": "stream",
     "text": [
      "Количество компонент связности - 4\n",
      "Наибольшая компонента связности: 3070 вершин и 124607 ребер\n"
     ]
    }
   ],
   "source": [
    "number, largest_index, components = alg.DFS_with_cc(G, largest=True)\n",
    "largest_component = G.subgraph(nodes=components[largest_index])\n",
    "\n",
    "print(f'Количество компонент связности - {number}')\n",
    "print(f'Наибольшая компонента связности: {largest_component.nodes_count} вершин и {largest_component.edges_count} ребер',)"
   ]
  },
  {
   "cell_type": "markdown",
   "id": "a0076835",
   "metadata": {},
   "source": [
    "## Диаметр, перцентиль"
   ]
  },
  {
   "cell_type": "code",
   "execution_count": 19,
   "id": "51fb0903",
   "metadata": {},
   "outputs": [
    {
     "name": "stdout",
     "output_type": "stream",
     "text": [
      "Реальный диаметр: 7\n"
     ]
    }
   ],
   "source": [
    "print(f'Реальный диаметр: {tls.diameter(G)}')"
   ]
  },
  {
   "cell_type": "code",
   "execution_count": 20,
   "id": "5faffa90",
   "metadata": {},
   "outputs": [
    {
     "name": "stdout",
     "output_type": "stream",
     "text": [
      "Диаметр наибольшей компоненты (приближенно): 6\n",
      "Радиус наибольшей компоненты (приближенно): 4\n",
      "90% процентиль геодезического расстояния в наибольшей компоненте (приближенно): 3\n"
     ]
    }
   ],
   "source": [
    "diam, radius, percentile = tls.approximate_statistic(graph=largest_component, number=500, percent=90)\n",
    "print(f'Диаметр наибольшей компоненты (приближенно): {diam}')\n",
    "print(f'Радиус наибольшей компоненты (приближенно): {radius}')\n",
    "print(f'90% процентиль геодезического расстояния в наибольшей компоненте (приближенно): {percentile}')"
   ]
  },
  {
   "cell_type": "markdown",
   "id": "fc1801af",
   "metadata": {},
   "source": [
    "## Число треугольников, кластерные коэффициенты"
   ]
  },
  {
   "cell_type": "code",
   "execution_count": 21,
   "id": "297bdc57",
   "metadata": {},
   "outputs": [
    {
     "name": "stdout",
     "output_type": "stream",
     "text": [
      "Число треугольников (K_3) в графе: 1119218\n",
      "Средний кластерный коэффициент сети: 0.2815364516293035\n",
      "Глобальный кластерный коэффициент сети: 0.21084112614327008\n"
     ]
    }
   ],
   "source": [
    "n_of_triangles = tls.number_of_triangles(G)\n",
    "average_cluster_coef = tls.average_clustering_coefficient(G)\n",
    "global_cluster_coef = tls.global_clustering_coefficient(G)\n",
    "\n",
    "print(f'Число треугольников (K_3) в графе: {n_of_triangles}')\n",
    "print(f'Средний кластерный коэффициент сети: {average_cluster_coef}')\n",
    "print(f'Глобальный кластерный коэффициент сети: {global_cluster_coef}')"
   ]
  },
  {
   "cell_type": "markdown",
   "id": "a1649309",
   "metadata": {},
   "source": [
    "## Вычисление расстояния между парой вершин"
   ]
  },
  {
   "cell_type": "code",
   "execution_count": null,
   "id": "1c4081e0",
   "metadata": {},
   "outputs": [],
   "source": [
    "# alg.BFS_search(G, start_u=, finish_v=, lenght=True)"
   ]
  },
  {
   "cell_type": "markdown",
   "id": "2f2fb37c",
   "metadata": {},
   "source": [
    "# Набор данных Reed\n",
    "## Загрузка"
   ]
  },
  {
   "cell_type": "code",
   "execution_count": 5,
   "id": "51bdc4f7",
   "metadata": {},
   "outputs": [
    {
     "name": "stdout",
     "output_type": "stream",
     "text": [
      "Граф <Reed> с 963 вершинами and 18812 ребрами\n"
     ]
    }
   ],
   "source": [
    "G = Graph('Reed')\n",
    "with open('socfb-Reed98.txt', mode='r') as f:\n",
    "    for line in f:\n",
    "        u, v = line.split()\n",
    "        G.add_edge(u, v)\n",
    "print(G)"
   ]
  },
  {
   "cell_type": "markdown",
   "id": "7f48a9c4",
   "metadata": {},
   "source": [
    "## Число компонент связности и характеристики наибольшей"
   ]
  },
  {
   "cell_type": "code",
   "execution_count": 6,
   "id": "b0777037",
   "metadata": {},
   "outputs": [
    {
     "name": "stdout",
     "output_type": "stream",
     "text": [
      "Количество компонент связности - 1\n",
      "Наибольшая компонента связности: 963 вершин и 18812 ребер\n"
     ]
    }
   ],
   "source": [
    "number, largest_index, components = alg.DFS_with_cc(G, largest=True)\n",
    "largest_component = G.subgraph(nodes=components[largest_index])\n",
    "\n",
    "print(f'Количество компонент связности - {number}')\n",
    "print(f'Наибольшая компонента связности: {largest_component.nodes_count} вершин и {largest_component.edges_count} ребер',)"
   ]
  },
  {
   "cell_type": "markdown",
   "id": "d536239e",
   "metadata": {},
   "source": [
    "## Диаметр, перцентиль"
   ]
  },
  {
   "cell_type": "code",
   "execution_count": 7,
   "id": "4189dbb2",
   "metadata": {},
   "outputs": [
    {
     "name": "stdout",
     "output_type": "stream",
     "text": [
      "Реальный диаметр: 6\n"
     ]
    }
   ],
   "source": [
    "print(f'Реальный диаметр: {tls.diameter(G)}')"
   ]
  },
  {
   "cell_type": "code",
   "execution_count": 8,
   "id": "374766e6",
   "metadata": {},
   "outputs": [
    {
     "name": "stdout",
     "output_type": "stream",
     "text": [
      "Диаметр наибольшей компоненты (приближенно): 6\n",
      "Радиус наибольшей компоненты (приближенно): 4\n",
      "90% процентиль геодезического расстояния в наибольшей компоненте (приближенно): 3\n"
     ]
    }
   ],
   "source": [
    "diam, radius, percentile = tls.approximate_statistic(graph=largest_component, number=500, percent=90)\n",
    "print(f'Диаметр наибольшей компоненты (приближенно): {diam}')\n",
    "print(f'Радиус наибольшей компоненты (приближенно): {radius}')\n",
    "print(f'90% процентиль геодезического расстояния в наибольшей компоненте (приближенно): {percentile}')"
   ]
  },
  {
   "cell_type": "markdown",
   "id": "152bedff",
   "metadata": {},
   "source": [
    "## Число треугольников, кластерные коэффициенты"
   ]
  },
  {
   "cell_type": "code",
   "execution_count": 9,
   "id": "9eb51b58",
   "metadata": {},
   "outputs": [
    {
     "name": "stdout",
     "output_type": "stream",
     "text": [
      "Число треугольников (K_3) в графе: 97118\n",
      "Средний кластерный коэффициент сети: 0.3179711600198445\n",
      "Глобальный кластерный коэффициент сети: 0.22067090304549689\n"
     ]
    }
   ],
   "source": [
    "n_of_triangles = tls.number_of_triangles(G)\n",
    "average_cluster_coef = tls.average_clustering_coefficient(G)\n",
    "global_cluster_coef = tls.global_clustering_coefficient(G)\n",
    "\n",
    "print(f'Число треугольников (K_3) в графе: {n_of_triangles}')\n",
    "print(f'Средний кластерный коэффициент сети: {average_cluster_coef}')\n",
    "print(f'Глобальный кластерный коэффициент сети: {global_cluster_coef}')"
   ]
  },
  {
   "cell_type": "markdown",
   "id": "2edc5f12",
   "metadata": {},
   "source": [
    "## Вычисление расстояния между парой вершин"
   ]
  },
  {
   "cell_type": "code",
   "execution_count": 11,
   "id": "320058e4",
   "metadata": {},
   "outputs": [],
   "source": [
    "# alg.BFS_search(G, start_u=, finish_v=, lenght=True)"
   ]
  },
  {
   "cell_type": "markdown",
   "id": "86a44c94",
   "metadata": {},
   "source": [
    "# Набор данных CA-GrQc\n",
    "## Загрузка"
   ]
  },
  {
   "cell_type": "code",
   "execution_count": 12,
   "id": "d7cd0a26",
   "metadata": {},
   "outputs": [
    {
     "name": "stdout",
     "output_type": "stream",
     "text": [
      "Граф <CA-GrQc> с 5242 вершинами and 14496 ребрами\n"
     ]
    }
   ],
   "source": [
    "G = Graph('CA-GrQc')\n",
    "with open('CA-GrQc.txt', mode='r') as f:\n",
    "    for line in f:\n",
    "        u, v = line.split()\n",
    "        G.add_edge(u, v)\n",
    "print(G)"
   ]
  },
  {
   "cell_type": "markdown",
   "id": "217f8f13",
   "metadata": {},
   "source": [
    "## Число компонент связности и характеристики наибольшей"
   ]
  },
  {
   "cell_type": "code",
   "execution_count": 13,
   "id": "eca190ec",
   "metadata": {},
   "outputs": [
    {
     "name": "stdout",
     "output_type": "stream",
     "text": [
      "Количество компонент связности - 355\n",
      "Наибольшая компонента связности: 4158 вершин и 13428 ребер\n"
     ]
    }
   ],
   "source": [
    "number, largest_index, components = alg.DFS_with_cc(G, largest=True)\n",
    "largest_component = G.subgraph(nodes=components[largest_index])\n",
    "\n",
    "print(f'Количество компонент связности - {number}')\n",
    "print(f'Наибольшая компонента связности: {largest_component.nodes_count} вершин и {largest_component.edges_count} ребер',)"
   ]
  },
  {
   "cell_type": "markdown",
   "id": "f9f0b4d2",
   "metadata": {},
   "source": [
    "## Диаметр, перцентиль"
   ]
  },
  {
   "cell_type": "code",
   "execution_count": 14,
   "id": "f20f6230",
   "metadata": {},
   "outputs": [
    {
     "name": "stdout",
     "output_type": "stream",
     "text": [
      "Реальный диаметр: 17\n"
     ]
    }
   ],
   "source": [
    "print(f'Реальный диаметр: {tls.diameter(G)}')"
   ]
  },
  {
   "cell_type": "code",
   "execution_count": 15,
   "id": "10d1dbd5",
   "metadata": {},
   "outputs": [
    {
     "name": "stdout",
     "output_type": "stream",
     "text": [
      "Диаметр наибольшей компоненты (приближенно): 16\n",
      "Радиус наибольшей компоненты (приближенно): 9\n",
      "90% процентиль геодезического расстояния в наибольшей компоненте (приближенно): 8\n"
     ]
    }
   ],
   "source": [
    "diam, radius, percentile = tls.approximate_statistic(graph=largest_component, number=500, percent=90)\n",
    "print(f'Диаметр наибольшей компоненты (приближенно): {diam}')\n",
    "print(f'Радиус наибольшей компоненты (приближенно): {radius}')\n",
    "print(f'90% процентиль геодезического расстояния в наибольшей компоненте (приближенно): {percentile}')"
   ]
  },
  {
   "cell_type": "markdown",
   "id": "3f69c908",
   "metadata": {},
   "source": [
    "## Число треугольников, кластерные коэффициенты"
   ]
  },
  {
   "cell_type": "code",
   "execution_count": 16,
   "id": "20b14373",
   "metadata": {},
   "outputs": [
    {
     "name": "stdout",
     "output_type": "stream",
     "text": [
      "Число треугольников (K_3) в графе: 48260\n",
      "Средний кластерный коэффициент сети: 0.529635811052136\n",
      "Глобальный кластерный коэффициент сети: 0.6298424741263426\n"
     ]
    }
   ],
   "source": [
    "n_of_triangles = tls.number_of_triangles(G)\n",
    "average_cluster_coef = tls.average_clustering_coefficient(G)\n",
    "global_cluster_coef = tls.global_clustering_coefficient(G)\n",
    "\n",
    "print(f'Число треугольников (K_3) в графе: {n_of_triangles}')\n",
    "print(f'Средний кластерный коэффициент сети: {average_cluster_coef}')\n",
    "print(f'Глобальный кластерный коэффициент сети: {global_cluster_coef}')"
   ]
  },
  {
   "cell_type": "markdown",
   "id": "ffcfe5f6",
   "metadata": {},
   "source": [
    "## Вычисление расстояния между парой вершин"
   ]
  },
  {
   "cell_type": "code",
   "execution_count": null,
   "id": "0607e50f",
   "metadata": {},
   "outputs": [],
   "source": [
    "# alg.BFS_search(G, start_u=, finish_v=, lenght=True)"
   ]
  }
 ],
 "metadata": {
  "kernelspec": {
   "display_name": "Python 3",
   "language": "python",
   "name": "python3"
  },
  "language_info": {
   "codemirror_mode": {
    "name": "ipython",
    "version": 3
   },
   "file_extension": ".py",
   "mimetype": "text/x-python",
   "name": "python",
   "nbconvert_exporter": "python",
   "pygments_lexer": "ipython3",
   "version": "3.8.8"
  },
  "toc": {
   "base_numbering": 1,
   "nav_menu": {},
   "number_sections": true,
   "sideBar": true,
   "skip_h1_title": false,
   "title_cell": "Table of Contents",
   "title_sidebar": "Contents",
   "toc_cell": false,
   "toc_position": {},
   "toc_section_display": true,
   "toc_window_display": false
  }
 },
 "nbformat": 4,
 "nbformat_minor": 5
}
