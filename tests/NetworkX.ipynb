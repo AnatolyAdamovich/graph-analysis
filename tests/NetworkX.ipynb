{
 "cells": [
  {
   "cell_type": "markdown",
   "id": "3f10e333",
   "metadata": {},
   "source": [
    "# Библиотеки"
   ]
  },
  {
   "cell_type": "code",
   "execution_count": 2,
   "id": "7c4c5fbf",
   "metadata": {},
   "outputs": [],
   "source": [
    "import networkx as nx"
   ]
  },
  {
   "cell_type": "markdown",
   "id": "83bfab39",
   "metadata": {},
   "source": [
    "# Набор данных CA-GrQc"
   ]
  },
  {
   "cell_type": "code",
   "execution_count": 3,
   "id": "4fe918b8",
   "metadata": {},
   "outputs": [
    {
     "name": "stdout",
     "output_type": "stream",
     "text": [
      "Количество вершин:  5242\n",
      "Количество ребер:  28980\n"
     ]
    }
   ],
   "source": [
    "G = nx.DiGraph()\n",
    "with open('CA-GrQc.txt', mode='r') as f:\n",
    "    for line in f:\n",
    "        u, v = line.split()\n",
    "        G.add_edge(u, v)\n",
    "print('Количество вершин: ', G.number_of_nodes())\n",
    "print('Количество ребер: ', G.number_of_edges())"
   ]
  },
  {
   "cell_type": "code",
   "execution_count": 7,
   "id": "206acd36",
   "metadata": {},
   "outputs": [
    {
     "name": "stdout",
     "output_type": "stream",
     "text": [
      "Число компонент слабой связности - 355\n",
      "Число компонент сильной связности - 355\n"
     ]
    }
   ],
   "source": [
    "wcc = list(nx.weakly_connected_components(G))\n",
    "scc = list(nx.strongly_connected_components(G))\n",
    "print(f'Число компонент слабой связности - {len(wcc)}')\n",
    "print(f'Число компонент сильной связности - {len(scc)}')"
   ]
  },
  {
   "cell_type": "code",
   "execution_count": 12,
   "id": "aa47798d",
   "metadata": {},
   "outputs": [
    {
     "name": "stdout",
     "output_type": "stream",
     "text": [
      "Наибольшая компонента слабой связности:\n",
      "   -Вершин: 4158\n",
      "   -Рёбер: 26850\n",
      "\n",
      "Наибольшая компонента сильной связности:\n",
      "   -Вершин: 4158\n",
      "   -Рёбер: 26850\n"
     ]
    }
   ],
   "source": [
    "nodes_in_weak_largest = max(wcc, key=lambda elem: len(elem))\n",
    "nodes_in_strong_largest = max(scc, key=lambda elem: len(elem))\n",
    "\n",
    "largest_weak = G.subgraph(nodes=nodes_in_weak_largest)\n",
    "largest_strong = G.subgraph(nodes=nodes_in_strong_largest)\n",
    "\n",
    "print('Наибольшая компонента слабой связности:')\n",
    "print(f'   -Вершин: {largest_weak.number_of_nodes()}\\n   -Рёбер: {largest_weak.number_of_edges()}')\n",
    "print()\n",
    "print('Наибольшая компонента сильной связности:')\n",
    "print(f'   -Вершин: {largest_strong.number_of_nodes()}\\n   -Рёбер: {largest_strong.number_of_edges()}')"
   ]
  },
  {
   "cell_type": "code",
   "execution_count": null,
   "id": "97c00916",
   "metadata": {},
   "outputs": [],
   "source": []
  }
 ],
 "metadata": {
  "kernelspec": {
   "display_name": "Python 3",
   "language": "python",
   "name": "python3"
  },
  "language_info": {
   "codemirror_mode": {
    "name": "ipython",
    "version": 3
   },
   "file_extension": ".py",
   "mimetype": "text/x-python",
   "name": "python",
   "nbconvert_exporter": "python",
   "pygments_lexer": "ipython3",
   "version": "3.8.8"
  },
  "toc": {
   "base_numbering": 1,
   "nav_menu": {},
   "number_sections": true,
   "sideBar": true,
   "skip_h1_title": false,
   "title_cell": "Table of Contents",
   "title_sidebar": "Contents",
   "toc_cell": false,
   "toc_position": {},
   "toc_section_display": true,
   "toc_window_display": false
  }
 },
 "nbformat": 4,
 "nbformat_minor": 5
}
