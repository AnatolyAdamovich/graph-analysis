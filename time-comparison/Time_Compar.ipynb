{
 "cells": [
  {
   "cell_type": "markdown",
   "id": "9936aafa",
   "metadata": {},
   "source": [
    "# Функции и библиотеки"
   ]
  },
  {
   "cell_type": "code",
   "execution_count": 15,
   "id": "88d88d47",
   "metadata": {},
   "outputs": [],
   "source": [
    "import os\n",
    "import sys\n",
    "module_path = os.path.abspath(os.path.join('..'))\n",
    "if module_path not in sys.path:\n",
    "    sys.path.append(module_path)"
   ]
  },
  {
   "cell_type": "markdown",
   "id": "e1f2a3d8",
   "metadata": {},
   "source": [
    "## external"
   ]
  },
  {
   "cell_type": "code",
   "execution_count": 16,
   "id": "0a50025b",
   "metadata": {
    "scrolled": false
   },
   "outputs": [],
   "source": [
    "import networkx as nx\n",
    "import numpy as np\n",
    "import matplotlib.pyplot as plt\n",
    "%matplotlib inline\n",
    "\n",
    "import random\n",
    "import seaborn as sns\n",
    "sns.set_style(\"darkgrid\")\n",
    "sns.set(font_scale = 1.2)\n",
    "\n",
    "random.seed(0)\n",
    "\n",
    "import time\n",
    "t = []\n",
    "t_nx = []"
   ]
  },
  {
   "cell_type": "markdown",
   "id": "12bb4a5d",
   "metadata": {},
   "source": [
    "## graphlib"
   ]
  },
  {
   "cell_type": "code",
   "execution_count": 17,
   "id": "a8c92074",
   "metadata": {
    "scrolled": false
   },
   "outputs": [],
   "source": [
    "from graphlib.structures import Graph\n",
    "import graphlib.algorithms as alg\n",
    "import graphlib.tools as tls"
   ]
  },
  {
   "cell_type": "markdown",
   "id": "58fe681e",
   "metadata": {},
   "source": [
    "# Загрузка данных"
   ]
  },
  {
   "cell_type": "markdown",
   "id": "a210acdf",
   "metadata": {},
   "source": [
    "## graphlib"
   ]
  },
  {
   "cell_type": "code",
   "execution_count": 19,
   "id": "d2fd84a8",
   "metadata": {
    "scrolled": false
   },
   "outputs": [
    {
     "name": "stdout",
     "output_type": "stream",
     "text": [
      "Граф <CA-AstroPh> с 18772 вершинами and 198110 ребрами\n"
     ]
    }
   ],
   "source": [
    "start = time.time()\n",
    "\n",
    "G = Graph('CA-AstroPh')\n",
    "with open('../datasets/CA-AstroPh.txt', mode='r') as f:\n",
    "    for line in f:\n",
    "        u, v = line.split()\n",
    "        G.add_edge(u, v)\n",
    "print(G)\n",
    "\n",
    "end = time.time()\n",
    "t.append(end - start)"
   ]
  },
  {
   "cell_type": "markdown",
   "id": "34881951",
   "metadata": {},
   "source": [
    "## external"
   ]
  },
  {
   "cell_type": "code",
   "execution_count": 20,
   "id": "9d8dda81",
   "metadata": {
    "scrolled": false
   },
   "outputs": [
    {
     "name": "stdout",
     "output_type": "stream",
     "text": [
      "\n"
     ]
    }
   ],
   "source": [
    "start = time.time()\n",
    "\n",
    "G_nx = nx.Graph()\n",
    "with open('../datasets/CA-AstroPh.txt', mode='r') as f:\n",
    "    for line in f:\n",
    "        u, v = line.split()\n",
    "        G_nx.add_edge(u, v)\n",
    "        \n",
    "print(G_nx)\n",
    "\n",
    "end = time.time()\n",
    "t_nx.append(end - start)"
   ]
  },
  {
   "cell_type": "markdown",
   "id": "102277e1",
   "metadata": {},
   "source": [
    "# Компоненты связности"
   ]
  },
  {
   "cell_type": "markdown",
   "id": "7473dd10",
   "metadata": {},
   "source": [
    "## graphlib"
   ]
  },
  {
   "cell_type": "code",
   "execution_count": 21,
   "id": "a070f624",
   "metadata": {
    "scrolled": false
   },
   "outputs": [],
   "source": [
    "start = time.time()\n",
    "\n",
    "for i in range(10):\n",
    "    number, largest_index, components = alg.DFS_with_cc(G, largest=True)\n",
    "\n",
    "end = time.time()\n",
    "t.append((end - start)/10)"
   ]
  },
  {
   "cell_type": "code",
   "execution_count": 22,
   "id": "27499e43",
   "metadata": {
    "scrolled": false
   },
   "outputs": [],
   "source": [
    "start = time.time()\n",
    "\n",
    "for i in range(10):\n",
    "    largest_component = G.subgraph(nodes=components[largest_index])\n",
    "\n",
    "end = time.time()\n",
    "t.append((end - start)/10)"
   ]
  },
  {
   "cell_type": "code",
   "execution_count": 23,
   "id": "ecd5d193",
   "metadata": {
    "scrolled": false
   },
   "outputs": [
    {
     "name": "stdout",
     "output_type": "stream",
     "text": [
      "Количество компонент связности - 290\n",
      "Наибольшая компонента связности: 17903 вершин и 197031 ребер\n"
     ]
    }
   ],
   "source": [
    "print(f'Количество компонент связности - {number}')\n",
    "print(f'Наибольшая компонента связности: {largest_component.nodes_count} вершин и {largest_component.edges_count} ребер',)"
   ]
  },
  {
   "cell_type": "code",
   "execution_count": 24,
   "id": "0f0969b4",
   "metadata": {
    "scrolled": false
   },
   "outputs": [
    {
     "name": "stdout",
     "output_type": "stream",
     "text": [
      "Доля вершин в наибольшей компоненте слабой связности: 0.954\n"
     ]
    }
   ],
   "source": [
    "nodes_in_largest_component = largest_component.nodes\n",
    "print(f'Доля вершин в наибольшей компоненте слабой связности: {round(largest_component.nodes_count / G.nodes_count, 3)}')"
   ]
  },
  {
   "cell_type": "markdown",
   "id": "7d46fb54",
   "metadata": {},
   "source": [
    "## external"
   ]
  },
  {
   "cell_type": "code",
   "execution_count": 25,
   "id": "4d08beeb",
   "metadata": {
    "scrolled": false
   },
   "outputs": [],
   "source": [
    "start = time.time()\n",
    "\n",
    "for i in range(10):\n",
    "    cc_number_nx = nx.number_connected_components(G_nx)\n",
    "\n",
    "end = time.time()\n",
    "t_nx.append((end - start)/10)"
   ]
  },
  {
   "cell_type": "code",
   "execution_count": 26,
   "id": "928fb715",
   "metadata": {
    "scrolled": false
   },
   "outputs": [],
   "source": [
    "start = time.time()\n",
    "\n",
    "for i in range(10):\n",
    "    largest_component_nx = G_nx.subgraph(nodes=max(nx.connected_components(G_nx), key=len))\n",
    "\n",
    "end = time.time()\n",
    "t_nx.append((end - start)/10)"
   ]
  },
  {
   "cell_type": "code",
   "execution_count": 27,
   "id": "efc2f1a7",
   "metadata": {
    "scrolled": false
   },
   "outputs": [
    {
     "name": "stdout",
     "output_type": "stream",
     "text": [
      "Число компонент связности - 290\n",
      "Наибольшая компонента состоит из 17903 вершин и 197031 ребер\n"
     ]
    }
   ],
   "source": [
    "print(f'Число компонент связности - {cc_number_nx}')\n",
    "print(f'Наибольшая компонента состоит из {largest_component_nx.number_of_nodes()} вершин ' \\\n",
    "      f'и {largest_component_nx.number_of_edges()} ребер')"
   ]
  },
  {
   "cell_type": "code",
   "execution_count": 28,
   "id": "2c2a154d",
   "metadata": {
    "scrolled": false
   },
   "outputs": [
    {
     "name": "stdout",
     "output_type": "stream",
     "text": [
      "Доля вершин в наибольшей компоненте слабой связности: 0.954\n"
     ]
    }
   ],
   "source": [
    "nodes_in_largest_component_nx = largest_component_nx.number_of_nodes()\n",
    "print(f'Доля вершин в наибольшей компоненте слабой связности: {round(largest_component_nx.number_of_nodes() / G_nx.number_of_nodes(), 3)}')"
   ]
  },
  {
   "cell_type": "markdown",
   "id": "19233d05",
   "metadata": {},
   "source": [
    "# Функция вероятности для степени узла в графе"
   ]
  },
  {
   "cell_type": "markdown",
   "id": "53b0997f",
   "metadata": {},
   "source": [
    "## graphlib"
   ]
  },
  {
   "cell_type": "code",
   "execution_count": 29,
   "id": "dc0b2e7c",
   "metadata": {
    "scrolled": true
   },
   "outputs": [],
   "source": [
    "start = time.time()\n",
    "\n",
    "for i in range(10):\n",
    "    degrees = list(map(lambda elem: elem[1], list(G.node_degrees())))\n",
    "\n",
    "end = time.time()\n",
    "t.append((end - start)/10)"
   ]
  },
  {
   "cell_type": "code",
   "execution_count": 30,
   "id": "a4ffbeeb",
   "metadata": {
    "scrolled": true
   },
   "outputs": [
    {
     "name": "stdout",
     "output_type": "stream",
     "text": [
      "Максимальная степень узла: 504\n",
      "Минимальная степень узла: 1\n",
      "Средняя степень узла: 21\n"
     ]
    }
   ],
   "source": [
    "print('Максимальная степень узла:', max(degrees))\n",
    "print('Минимальная степень узла:', min(degrees))\n",
    "print('Средняя степень узла:', int(sum(degrees)/len(degrees)))"
   ]
  },
  {
   "cell_type": "markdown",
   "id": "3a76faa0",
   "metadata": {},
   "source": [
    "## external"
   ]
  },
  {
   "cell_type": "code",
   "execution_count": 31,
   "id": "1fb7213b",
   "metadata": {
    "scrolled": false
   },
   "outputs": [],
   "source": [
    "start = time.time()\n",
    "\n",
    "for i in range(10):\n",
    "    degrees_nx = list(map(lambda elem: elem[1], list(G_nx.degree())))\n",
    "\n",
    "end = time.time()\n",
    "t_nx.append((end - start)/10)"
   ]
  },
  {
   "cell_type": "code",
   "execution_count": 32,
   "id": "7aeb24b7",
   "metadata": {
    "scrolled": false
   },
   "outputs": [
    {
     "name": "stdout",
     "output_type": "stream",
     "text": [
      "Максимальная степень узла: 504\n",
      "Минимальная степень узла: 1\n",
      "Средняя степень узла: 21\n"
     ]
    }
   ],
   "source": [
    "print('Максимальная степень узла:', max(degrees_nx))\n",
    "print('Минимальная степень узла:', min(degrees_nx))\n",
    "print('Средняя степень узла:', int(sum(degrees_nx)/len(degrees_nx)))"
   ]
  },
  {
   "cell_type": "markdown",
   "id": "d6a5a9dc",
   "metadata": {},
   "source": [
    "## Сравнительная визуализация результатов"
   ]
  },
  {
   "cell_type": "code",
   "execution_count": 33,
   "id": "c4a0867e",
   "metadata": {},
   "outputs": [
    {
     "name": "stderr",
     "output_type": "stream",
     "text": [
      "No handles with labels found to put in legend.\n"
     ]
    },
    {
     "data": {
      "text/plain": [
       "<BarContainer object of 4 artists>"
      ]
     },
     "execution_count": 33,
     "metadata": {},
     "output_type": "execute_result"
    },
    {
     "data": {
      "image/png": "[encoded data removed]",
      "text/plain": [
       "<Figure size 432x288 with 1 Axes>"
      ]
     },
     "metadata": {},
     "output_type": "display_data"
    }
   ],
   "source": [
    "data = [t, t_nx]\n",
    "\n",
    "labels = ['Loading', 'CompCountAvg', 'LargestCompAvg', 'DegreesAvg']\n",
    "\n",
    "x = np.arange(len(labels))  # the label locations\n",
    "\n",
    "fig = plt.figure()\n",
    "\n",
    "ax = fig.add_axes([0,0,1,1])\n",
    "\n",
    "ax.set_ylabel('Time, s')\n",
    "ax.set_xticks(x)\n",
    "ax.set_xticklabels(labels)\n",
    "ax.legend()\n",
    "\n",
    "ax.bar(x + 0.00, data[0], color = 'orange', width = 0.25, label='abacaba')\n",
    "ax.bar(x + 0.25, data[1], color = 'gray', width = 0.25)"
   ]
  },
  {
   "cell_type": "code",
   "execution_count": 34,
   "id": "7a8f889e",
   "metadata": {},
   "outputs": [],
   "source": [
    "t = []\n",
    "t_nx = []"
   ]
  },
  {
   "cell_type": "markdown",
   "id": "8acceb7e",
   "metadata": {},
   "source": [
    "# Число треугольников, глобальный и кластерный коэффициенты"
   ]
  },
  {
   "cell_type": "markdown",
   "id": "7b3f2d93",
   "metadata": {},
   "source": [
    "## graphlib"
   ]
  },
  {
   "cell_type": "code",
   "execution_count": null,
   "id": "bddd0fe4",
   "metadata": {
    "scrolled": true
   },
   "outputs": [],
   "source": [
    "start = time.time()\n",
    "\n",
    "for i in range(10):\n",
    "    n_of_triangles = tls.number_of_triangles(G)\n",
    "\n",
    "end = time.time()\n",
    "t.append((end - start)/10)"
   ]
  },
  {
   "cell_type": "code",
   "execution_count": null,
   "id": "4c897ad0",
   "metadata": {},
   "outputs": [],
   "source": [
    "start = time.time()\n",
    "\n",
    "for i in range(10):\n",
    "    average_cluster_coef = tls.average_clustering_coefficient(G)\n",
    "\n",
    "end = time.time()\n",
    "t.append((end - start)/10)"
   ]
  },
  {
   "cell_type": "markdown",
   "id": "c567c7d4",
   "metadata": {},
   "source": [
    "## external"
   ]
  },
  {
   "cell_type": "code",
   "execution_count": null,
   "id": "9ee71e0a",
   "metadata": {
    "scrolled": true
   },
   "outputs": [],
   "source": [
    "start = time.time()\n",
    "\n",
    "for i in range(10):\n",
    "    n_of_triangles_nx = sum(nx.triangles(G_nx).values()) / 3\n",
    "\n",
    "end = time.time()\n",
    "t_nx.append((end - start)/10)"
   ]
  },
  {
   "cell_type": "code",
   "execution_count": null,
   "id": "23e37f58",
   "metadata": {},
   "outputs": [],
   "source": [
    "start = time.time()\n",
    "\n",
    "for i in range(10):\n",
    "    average_coef_nx = nx.average_clustering(G_nx)\n",
    "\n",
    "end = time.time()\n",
    "t_nx.append((end - start)/10)"
   ]
  },
  {
   "cell_type": "code",
   "execution_count": null,
   "id": "b75a33ec",
   "metadata": {},
   "outputs": [],
   "source": [
    "print(f'Число треугольников в графе - {n_of_triangles_nx}')\n",
    "print(f'Средний кластерный коэффициент сети - {average_coef_nx}')"
   ]
  },
  {
   "cell_type": "code",
   "execution_count": null,
   "id": "4a6663c9",
   "metadata": {
    "scrolled": false
   },
   "outputs": [],
   "source": [
    "data = [t, t_nx]\n",
    "\n",
    "labels = ['TrianglesAvg', 'AvgClusterAvg']\n",
    "\n",
    "x = np.arange(len(labels))  # the label locations\n",
    "\n",
    "fig = plt.figure()\n",
    "\n",
    "ax = fig.add_axes([0,0,1,1])\n",
    "\n",
    "ax.set_ylabel('Time, s')\n",
    "ax.set_xticks(x)\n",
    "ax.set_xticklabels(labels)\n",
    "ax.legend()\n",
    "\n",
    "ax.bar(x + 0.00, data[0], color = 'orange', width = 0.25, label='abacaba')\n",
    "ax.bar(x + 0.25, data[1], color = 'gray', width = 0.25)"
   ]
  },
  {
   "cell_type": "code",
   "execution_count": null,
   "id": "6d318319",
   "metadata": {},
   "outputs": [],
   "source": [
    "t = []\n",
    "t_nx = []"
   ]
  },
  {
   "cell_type": "markdown",
   "id": "e2501adb",
   "metadata": {},
   "source": [
    "# Метрические характеристики графа"
   ]
  },
  {
   "cell_type": "markdown",
   "id": "f5114c66",
   "metadata": {},
   "source": [
    "## Graphlib"
   ]
  },
  {
   "cell_type": "code",
   "execution_count": null,
   "id": "0c2bef36",
   "metadata": {},
   "outputs": [],
   "source": [
    "start = time.time()\n",
    "\n",
    "diam, radius, percentile = tls.approximate_statistic(largest_component, number=500)\n",
    "\n",
    "end = time.time()\n",
    "t.append((end - start))"
   ]
  },
  {
   "cell_type": "code",
   "execution_count": null,
   "id": "9feea903",
   "metadata": {},
   "outputs": [],
   "source": [
    "print(f'Диаметр наибольшей компоненты (приближенно): {diam}')\n",
    "print(f'Радиус наибольшей компоненты (приближенно): {radius}')\n",
    "print(f'90% процентиль геодезического расстояния в наибольшей компоненте (приближенно): {percentile}')"
   ]
  },
  {
   "cell_type": "code",
   "execution_count": null,
   "id": "2849a097",
   "metadata": {},
   "outputs": [],
   "source": [
    "data = [t]\n",
    "\n",
    "labels = ['StatAvg']\n",
    "\n",
    "x = np.arange(len(labels))  # the label locations\n",
    "\n",
    "fig = plt.figure()\n",
    "\n",
    "ax = fig.add_axes([0,0,1,1])\n",
    "\n",
    "ax.set_ylabel('Time, s')\n",
    "ax.set_xticks(x)\n",
    "ax.set_xticklabels(labels)\n",
    "ax.legend()\n",
    "\n",
    "ax.bar(x + 0.00, data[0], color = 'orange', width = 0.25, label='abacaba')\n",
    "ax.bar(x + 0.25, data[1], color = 'gray', width = 0.25)"
   ]
  }
 ],
 "metadata": {
  "kernelspec": {
   "display_name": "Python 3",
   "language": "python",
   "name": "python3"
  },
  "language_info": {
   "codemirror_mode": {
    "name": "ipython",
    "version": 3
   },
   "file_extension": ".py",
   "mimetype": "text/x-python",
   "name": "python",
   "nbconvert_exporter": "python",
   "pygments_lexer": "ipython3",
   "version": "3.8.8"
  },
  "toc": {
   "base_numbering": 1,
   "nav_menu": {},
   "number_sections": true,
   "sideBar": true,
   "skip_h1_title": false,
   "title_cell": "Table of Contents",
   "title_sidebar": "Contents",
   "toc_cell": false,
   "toc_position": {},
   "toc_section_display": true,
   "toc_window_display": false
  }
 },
 "nbformat": 4,
 "nbformat_minor": 5
}
