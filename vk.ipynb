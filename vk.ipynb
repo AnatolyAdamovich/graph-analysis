{
 "cells": [
  {
   "cell_type": "markdown",
   "id": "35636475",
   "metadata": {},
   "source": [
    "# Функции и библиотеки"
   ]
  },
  {
   "cell_type": "code",
   "execution_count": 3,
   "id": "78879031",
   "metadata": {},
   "outputs": [],
   "source": [
    "from graphlib.structures import Graph\n",
    "import graphlib.algorithms as alg\n",
    "import graphlib.tools as tls\n",
    "\n",
    "import random\n",
    "import pandas as pd\n",
    "import numpy as np\n",
    "import matplotlib.pyplot as plt\n",
    "%matplotlib inline\n",
    "\n",
    "random.seed(0)"
   ]
  },
  {
   "cell_type": "markdown",
   "id": "3cac5c31",
   "metadata": {},
   "source": [
    "# Загрузка данных, количество ребер и вершин; плотность"
   ]
  },
  {
   "cell_type": "code",
   "execution_count": 4,
   "id": "f6bf36d4",
   "metadata": {},
   "outputs": [
    {
     "data": {
      "text/html": [
       "<div>\n",
       "<style scoped>\n",
       "    .dataframe tbody tr th:only-of-type {\n",
       "        vertical-align: middle;\n",
       "    }\n",
       "\n",
       "    .dataframe tbody tr th {\n",
       "        vertical-align: top;\n",
       "    }\n",
       "\n",
       "    .dataframe thead th {\n",
       "        text-align: right;\n",
       "    }\n",
       "</style>\n",
       "<table border=\"1\" class=\"dataframe\">\n",
       "  <thead>\n",
       "    <tr style=\"text-align: right;\">\n",
       "      <th></th>\n",
       "      <th>u</th>\n",
       "      <th>v</th>\n",
       "      <th>t</th>\n",
       "      <th>h</th>\n",
       "    </tr>\n",
       "  </thead>\n",
       "  <tbody>\n",
       "    <tr>\n",
       "      <th>0</th>\n",
       "      <td>3248374</td>\n",
       "      <td>11431799</td>\n",
       "      <td>27</td>\n",
       "      <td>6</td>\n",
       "    </tr>\n",
       "    <tr>\n",
       "      <th>1</th>\n",
       "      <td>3429130</td>\n",
       "      <td>4795235</td>\n",
       "      <td>13</td>\n",
       "      <td>8</td>\n",
       "    </tr>\n",
       "    <tr>\n",
       "      <th>2</th>\n",
       "      <td>105512</td>\n",
       "      <td>8910840</td>\n",
       "      <td>74</td>\n",
       "      <td>2</td>\n",
       "    </tr>\n",
       "    <tr>\n",
       "      <th>3</th>\n",
       "      <td>7900466</td>\n",
       "      <td>9739979</td>\n",
       "      <td>36</td>\n",
       "      <td>9</td>\n",
       "    </tr>\n",
       "    <tr>\n",
       "      <th>4</th>\n",
       "      <td>7296485</td>\n",
       "      <td>9838285</td>\n",
       "      <td>52</td>\n",
       "      <td>2</td>\n",
       "    </tr>\n",
       "  </tbody>\n",
       "</table>\n",
       "</div>"
      ],
      "text/plain": [
       "         u         v   t  h\n",
       "0  3248374  11431799  27  6\n",
       "1  3429130   4795235  13  8\n",
       "2   105512   8910840  74  2\n",
       "3  7900466   9739979  36  9\n",
       "4  7296485   9838285  52  2"
      ]
     },
     "execution_count": 4,
     "metadata": {},
     "output_type": "execute_result"
    }
   ],
   "source": [
    "vk_dataset = pd.read_csv('datasets/vk.csv')\n",
    "ed = [(str(node1), str(node2)) for node1, node2 in zip(vk_dataset.u.tolist(), vk_dataset.v.tolist())]\n",
    "vk_dataset.head()"
   ]
  },
  {
   "cell_type": "code",
   "execution_count": 5,
   "id": "b81f5ad5",
   "metadata": {},
   "outputs": [
    {
     "name": "stdout",
     "output_type": "stream",
     "text": [
      "Граф <vk> с 3215720 вершинами and 17414510 ребрами\n",
      "Wall time: 3min 9s\n"
     ]
    }
   ],
   "source": [
    "%%time\n",
    "\n",
    "G = Graph('vk', edges=ed)\n",
    "print(G)"
   ]
  },
  {
   "cell_type": "markdown",
   "id": "c8c1c013",
   "metadata": {},
   "source": [
    "# Количество компонент связности, характеристики наибольшей компоненты"
   ]
  },
  {
   "cell_type": "code",
   "execution_count": 6,
   "id": "2545a7ae",
   "metadata": {},
   "outputs": [
    {
     "name": "stdout",
     "output_type": "stream",
     "text": [
      "Wall time: 2min 35s\n"
     ]
    }
   ],
   "source": [
    "%%time\n",
    "\n",
    "number, largest_index, components = alg.DFS_with_cc(G, largest=True)\n",
    "largest_component = G.subgraph(nodes=components[largest_index])"
   ]
  },
  {
   "cell_type": "code",
   "execution_count": 7,
   "id": "c296357a",
   "metadata": {},
   "outputs": [
    {
     "name": "stdout",
     "output_type": "stream",
     "text": [
      "Количество компонент связности - 24337\n",
      "Наибольшая компонента связности: 3162217 вершин и 17378782 ребер\n"
     ]
    }
   ],
   "source": [
    "print(f'Количество компонент связности - {number}')\n",
    "print(f'Наибольшая компонента связности: {largest_component.nodes_count} вершин и {largest_component.edges_count} ребер',)"
   ]
  },
  {
   "cell_type": "code",
   "execution_count": 8,
   "id": "bac66d7f",
   "metadata": {},
   "outputs": [
    {
     "name": "stdout",
     "output_type": "stream",
     "text": [
      "Доля вершин в наибольшей компоненте слабой связности: 0.983\n"
     ]
    }
   ],
   "source": [
    "nodes_in_largest_component = largest_component.nodes\n",
    "print(f'Доля вершин в наибольшей компоненте слабой связности: {round(largest_component.nodes_count / G.nodes_count, 3)}')"
   ]
  },
  {
   "cell_type": "markdown",
   "id": "6ac70cb9",
   "metadata": {},
   "source": [
    "## Доля вершин в компоненте слабой связности при удалении x% случайных вершин"
   ]
  },
  {
   "cell_type": "code",
   "execution_count": 9,
   "id": "0662366a",
   "metadata": {},
   "outputs": [
    {
     "name": "stdout",
     "output_type": "stream",
     "text": [
      "Wall time: 36.8 s\n"
     ]
    },
    {
     "data": {
      "text/plain": [
       "Text(0, 0.5, 'Доля вершин в наибольшей компоненте')"
      ]
     },
     "execution_count": 9,
     "metadata": {},
     "output_type": "execute_result"
    },
    {
     "data": {
      "image/png": "[encoded data removed]",
      "text/plain": [
       "<Figure size 1008x360 with 1 Axes>"
      ]
     },
     "metadata": {
      "needs_background": "light"
     },
     "output_type": "display_data"
    }
   ],
   "source": [
    "%%time\n",
    "\n",
    "procent_of_removing = np.arange(5, 80, 5) # от 5 до 75 с шагом 5\n",
    "props = []\n",
    "for x in procent_of_removing:\n",
    "    n = round(G.nodes_count * (x/100)) # число удаляемых вершин\n",
    "    removing_nodes = G.selection(x=n,\n",
    "                                 most_degree=False)\n",
    "    tmp_set = nodes_in_largest_component - removing_nodes\n",
    "    proportion = len(tmp_set) / (G.nodes_count-n)\n",
    "    props.append(proportion)\n",
    "    \n",
    "\n",
    "plt.figure(figsize=(14, 5))\n",
    "plt.plot(procent_of_removing, props, 'm')\n",
    "plt.ylim(0.93, 0.98)\n",
    "plt.xlabel('Процент удаленных случайных вершин')\n",
    "plt.ylabel('Доля вершин в наибольшей компоненте')"
   ]
  },
  {
   "cell_type": "markdown",
   "id": "2261a1a9",
   "metadata": {},
   "source": [
    "## Доля вершин в компоненте слабой связности при удалении x% вершин наибольшей степени"
   ]
  },
  {
   "cell_type": "code",
   "execution_count": 10,
   "id": "2caae181",
   "metadata": {},
   "outputs": [
    {
     "name": "stdout",
     "output_type": "stream",
     "text": [
      "Wall time: 1min 1s\n"
     ]
    },
    {
     "data": {
      "text/plain": [
       "(0.8, 1.0)"
      ]
     },
     "execution_count": 10,
     "metadata": {},
     "output_type": "execute_result"
    },
    {
     "data": {
      "image/png": "[encoded data removed]",
      "text/plain": [
       "<Figure size 1008x360 with 1 Axes>"
      ]
     },
     "metadata": {
      "needs_background": "light"
     },
     "output_type": "display_data"
    }
   ],
   "source": [
    "%%time\n",
    "\n",
    "procent_of_removing = np.arange(5, 80, 5) # от 5 до 75 с шагом 5\n",
    "props = []\n",
    "for x in procent_of_removing:\n",
    "    n = round(G.nodes_count * (x/100)) # число удаляемых вершин\n",
    "    removing_nodes = G.selection(x=n,\n",
    "                                 most_degree=True)\n",
    "    tmp_set = nodes_in_largest_component - removing_nodes\n",
    "    proportion = len(tmp_set) / (G.nodes_count-n)\n",
    "    props.append(proportion)\n",
    "    \n",
    "\n",
    "plt.figure(figsize=(14, 5))\n",
    "plt.plot(procent_of_removing, props, 'm')\n",
    "plt.xlabel('Процент удаленных вершин наибольшей степени')\n",
    "plt.ylabel('Доля вершин в наибольшей компоненте')\n",
    "plt.ylim(0.8, 1)"
   ]
  },
  {
   "cell_type": "markdown",
   "id": "b70be27c",
   "metadata": {},
   "source": [
    "# Метрические характеристики графа: диаметр, радиус и 90 процентиль (approximation)"
   ]
  },
  {
   "cell_type": "code",
   "execution_count": null,
   "id": "3c4c4f4d",
   "metadata": {},
   "outputs": [],
   "source": [
    "%%time\n",
    "\n",
    "diam = tls.diameter_approximate(graph=largest_component,\n",
    "                                number=500)\n",
    "print(f'Диаметр наибольшей компоненты (приближенно): {diam}')"
   ]
  },
  {
   "cell_type": "code",
   "execution_count": null,
   "id": "aeb8e173",
   "metadata": {},
   "outputs": [],
   "source": [
    "%%time\n",
    "\n",
    "radius = tls.radius_approximate(graph=largest_component,\n",
    "                                number=500)\n",
    "print(f'Радиус наибольшей компоненты (приближенно): {radius}')"
   ]
  },
  {
   "cell_type": "code",
   "execution_count": null,
   "id": "4aa2bb56",
   "metadata": {},
   "outputs": [],
   "source": [
    "%%time\n",
    "\n",
    "percentile = tls.geodesic_percentile_approximate(graph=largest_component,\n",
    "                                                 number=500,\n",
    "                                                 percent=90)\n",
    "print(f'90% процентиль геодезического расстояния в наибольшей компоненте (приближенно): {percentile}')"
   ]
  },
  {
   "cell_type": "markdown",
   "id": "8b6a183b",
   "metadata": {},
   "source": [
    "# Функция вероятности для степени узла в графе\n",
    "Минимальная, максимальная, средняя степень узла в графе. Надо построить функцию вероятности (можно в виде гистограммы относительных частот)"
   ]
  },
  {
   "cell_type": "code",
   "execution_count": null,
   "id": "d8bf5d27",
   "metadata": {},
   "outputs": [],
   "source": [
    "%%time\n",
    "degrees = list(map(lambda elem: elem[1], list(G.node_degrees())))\n",
    "max_deg = max(degrees)\n",
    "min_deg = min(degrees)\n",
    "mean_deg = int(sum(degrees)/ len(degrees))"
   ]
  },
  {
   "cell_type": "code",
   "execution_count": null,
   "id": "af2540b6",
   "metadata": {},
   "outputs": [],
   "source": [
    "print('Максимальная степень узла:', max(degrees))\n",
    "print('Минимальная степень узла:', min(degrees))\n",
    "print('Средняя степень узла:', int(sum(degrees)/len(degrees)))"
   ]
  },
  {
   "cell_type": "markdown",
   "id": "979d3878",
   "metadata": {},
   "source": [
    "# Число треугольников, глобальный и кластерный коэффициенты"
   ]
  },
  {
   "cell_type": "code",
   "execution_count": null,
   "id": "b70e3e52",
   "metadata": {},
   "outputs": [],
   "source": [
    "%%time\n",
    "n_of_triangles = tls.number_of_triangles(G)"
   ]
  },
  {
   "cell_type": "code",
   "execution_count": null,
   "id": "c6f6ff9b",
   "metadata": {},
   "outputs": [],
   "source": [
    "%%time\n",
    "average_cluster_coef = tls.average_clustering_coefficient(G)"
   ]
  },
  {
   "cell_type": "code",
   "execution_count": null,
   "id": "2ee751f2",
   "metadata": {},
   "outputs": [],
   "source": [
    "%%time\n",
    "global_cluster_coef = tls.global_clustering_coefficient(G)"
   ]
  },
  {
   "cell_type": "code",
   "execution_count": null,
   "id": "8d872213",
   "metadata": {},
   "outputs": [],
   "source": [
    "print(f'Число треугольников (K_3) в графе: {n_of_triangles}')\n",
    "print(f'Средний кластерный коэффициент сети: {average_cluster_coef}')\n",
    "print(f'Глобальный кластерный коэффициент сети: {global_cluster_coef}')"
   ]
  }
 ],
 "metadata": {
  "kernelspec": {
   "display_name": "Python 3",
   "language": "python",
   "name": "python3"
  },
  "language_info": {
   "codemirror_mode": {
    "name": "ipython",
    "version": 3
   },
   "file_extension": ".py",
   "mimetype": "text/x-python",
   "name": "python",
   "nbconvert_exporter": "python",
   "pygments_lexer": "ipython3",
   "version": "3.8.8"
  },
  "toc": {
   "base_numbering": 1,
   "nav_menu": {},
   "number_sections": true,
   "sideBar": true,
   "skip_h1_title": false,
   "title_cell": "Table of Contents",
   "title_sidebar": "Contents",
   "toc_cell": false,
   "toc_position": {},
   "toc_section_display": true,
   "toc_window_display": false
  }
 },
 "nbformat": 4,
 "nbformat_minor": 5
}
