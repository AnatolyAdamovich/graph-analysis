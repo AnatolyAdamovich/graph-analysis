{
 "cells": [
  {
   "cell_type": "markdown",
   "id": "fddf16cb",
   "metadata": {},
   "source": [
    "# Библиотеки и функции"
   ]
  },
  {
   "cell_type": "code",
   "execution_count": null,
   "id": "ff1f3888",
   "metadata": {},
   "outputs": [],
   "source": [
    "import pandas as pd\n",
    "from graphlib.structures import Graph\n",
    "from graphlib.algorithms import DFS_with_cc, BFS_search\n",
    "from graphlib.tools import radius_approximate, diameter_approximate"
   ]
  },
  {
   "cell_type": "markdown",
   "id": "72d08a46",
   "metadata": {},
   "source": [
    "# Загрузка данных"
   ]
  },
  {
   "cell_type": "code",
   "execution_count": null,
   "id": "261bab57",
   "metadata": {},
   "outputs": [],
   "source": []
  },
  {
   "cell_type": "code",
   "execution_count": null,
   "id": "da8cdfe4",
   "metadata": {},
   "outputs": [],
   "source": []
  },
  {
   "cell_type": "markdown",
   "id": "c6628d42",
   "metadata": {},
   "source": [
    "# Выделение компонент связности, характеристики наибольшей компоненты"
   ]
  },
  {
   "cell_type": "code",
   "execution_count": null,
   "id": "ff27e579",
   "metadata": {},
   "outputs": [],
   "source": []
  },
  {
   "cell_type": "code",
   "execution_count": null,
   "id": "2161a774",
   "metadata": {},
   "outputs": [],
   "source": []
  },
  {
   "cell_type": "markdown",
   "id": "ac0af33a",
   "metadata": {},
   "source": [
    "# Метрические характеристики графа: диаметр, радиус, 90 процентиль (approximation)"
   ]
  },
  {
   "cell_type": "code",
   "execution_count": null,
   "id": "c8535bea",
   "metadata": {},
   "outputs": [],
   "source": []
  },
  {
   "cell_type": "code",
   "execution_count": null,
   "id": "0218cbff",
   "metadata": {},
   "outputs": [],
   "source": []
  }
 ],
 "metadata": {
  "kernelspec": {
   "display_name": "Python 3",
   "language": "python",
   "name": "python3"
  },
  "language_info": {
   "codemirror_mode": {
    "name": "ipython",
    "version": 3
   },
   "file_extension": ".py",
   "mimetype": "text/x-python",
   "name": "python",
   "nbconvert_exporter": "python",
   "pygments_lexer": "ipython3",
   "version": "3.8.8"
  },
  "toc": {
   "base_numbering": 1,
   "nav_menu": {},
   "number_sections": true,
   "sideBar": true,
   "skip_h1_title": false,
   "title_cell": "Table of Contents",
   "title_sidebar": "Contents",
   "toc_cell": false,
   "toc_position": {},
   "toc_section_display": true,
   "toc_window_display": false
  }
 },
 "nbformat": 4,
 "nbformat_minor": 5
}
