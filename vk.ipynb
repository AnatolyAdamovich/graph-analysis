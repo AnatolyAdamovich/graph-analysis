{
 "cells": [
  {
   "cell_type": "markdown",
   "id": "fddf16cb",
   "metadata": {},
   "source": [
    "# Библиотеки и функции"
   ]
  },
  {
   "cell_type": "code",
   "execution_count": 11,
   "id": "ff1f3888",
   "metadata": {},
   "outputs": [],
   "source": [
    "import pandas as pd\n",
    "from graphlib.structures import Graph\n",
    "from graphlib.algorithms import DFS_with_cc, BFS_search\n",
    "from graphlib.tools import radius_approximate, diameter_approximate"
   ]
  },
  {
   "cell_type": "markdown",
   "id": "72d08a46",
   "metadata": {},
   "source": [
    "# Загрузка данных"
   ]
  },
  {
   "cell_type": "code",
   "execution_count": 12,
   "id": "261bab57",
   "metadata": {},
   "outputs": [
    {
     "data": {
      "text/html": [
       "<div>\n",
       "<style scoped>\n",
       "    .dataframe tbody tr th:only-of-type {\n",
       "        vertical-align: middle;\n",
       "    }\n",
       "\n",
       "    .dataframe tbody tr th {\n",
       "        vertical-align: top;\n",
       "    }\n",
       "\n",
       "    .dataframe thead th {\n",
       "        text-align: right;\n",
       "    }\n",
       "</style>\n",
       "<table border=\"1\" class=\"dataframe\">\n",
       "  <thead>\n",
       "    <tr style=\"text-align: right;\">\n",
       "      <th></th>\n",
       "      <th>u</th>\n",
       "      <th>v</th>\n",
       "      <th>t</th>\n",
       "      <th>h</th>\n",
       "    </tr>\n",
       "  </thead>\n",
       "  <tbody>\n",
       "    <tr>\n",
       "      <th>0</th>\n",
       "      <td>3248374</td>\n",
       "      <td>11431799</td>\n",
       "      <td>27</td>\n",
       "      <td>6</td>\n",
       "    </tr>\n",
       "    <tr>\n",
       "      <th>1</th>\n",
       "      <td>3429130</td>\n",
       "      <td>4795235</td>\n",
       "      <td>13</td>\n",
       "      <td>8</td>\n",
       "    </tr>\n",
       "    <tr>\n",
       "      <th>2</th>\n",
       "      <td>105512</td>\n",
       "      <td>8910840</td>\n",
       "      <td>74</td>\n",
       "      <td>2</td>\n",
       "    </tr>\n",
       "    <tr>\n",
       "      <th>3</th>\n",
       "      <td>7900466</td>\n",
       "      <td>9739979</td>\n",
       "      <td>36</td>\n",
       "      <td>9</td>\n",
       "    </tr>\n",
       "    <tr>\n",
       "      <th>4</th>\n",
       "      <td>7296485</td>\n",
       "      <td>9838285</td>\n",
       "      <td>52</td>\n",
       "      <td>2</td>\n",
       "    </tr>\n",
       "  </tbody>\n",
       "</table>\n",
       "</div>"
      ],
      "text/plain": [
       "         u         v   t  h\n",
       "0  3248374  11431799  27  6\n",
       "1  3429130   4795235  13  8\n",
       "2   105512   8910840  74  2\n",
       "3  7900466   9739979  36  9\n",
       "4  7296485   9838285  52  2"
      ]
     },
     "execution_count": 12,
     "metadata": {},
     "output_type": "execute_result"
    }
   ],
   "source": [
    "vk_dataset = pd.read_csv('datasets/vk.csv')\n",
    "vk_dataset.head()"
   ]
  },
  {
   "cell_type": "code",
   "execution_count": 13,
   "id": "da8cdfe4",
   "metadata": {},
   "outputs": [
    {
     "name": "stdout",
     "output_type": "stream",
     "text": [
      "17414510\n"
     ]
    }
   ],
   "source": [
    "#G = Graph('vk')\n",
    "ed = [(str(node1), str(node2)) for node1, node2 in zip(vk_dataset.u.tolist(), vk_dataset.v.tolist())]\n",
    "print(len(ed))"
   ]
  },
  {
   "cell_type": "code",
   "execution_count": 14,
   "id": "bdf65ce7",
   "metadata": {},
   "outputs": [
    {
     "name": "stdout",
     "output_type": "stream",
     "text": [
      "Graph <vk> with 3215720 nodes and 17414510 edges\n"
     ]
    }
   ],
   "source": [
    "G = Graph('vk', edges=ed)\n",
    "print(G)"
   ]
  },
  {
   "cell_type": "markdown",
   "id": "c6628d42",
   "metadata": {},
   "source": [
    "# Выделение компонент связности, характеристики наибольшей компоненты"
   ]
  },
  {
   "cell_type": "code",
   "execution_count": 15,
   "id": "ff27e579",
   "metadata": {},
   "outputs": [
    {
     "name": "stdout",
     "output_type": "stream",
     "text": [
      "Graph <subgraph::vk> with 3162217 nodes and 17378782 edges\n",
      "Доля вершин в наибольшей компоненте: 0.983\n",
      "Wall time: 22min 5s\n"
     ]
    }
   ],
   "source": [
    "%%time\n",
    "\n",
    "number, largest_index, components = DFS_with_cc(G, largest=True)\n",
    "largest_component = G.subgraph(nodes=components[largest_index])\n",
    "largest_component._name = 'the largest component::vk'\n",
    "print(largest_component)\n",
    "\n",
    "print(f'Доля вершин в наибольшей компоненте: {round(largest_component.nodes_count / G.nodes_count, 3)}')"
   ]
  },
  {
   "cell_type": "code",
   "execution_count": null,
   "id": "2161a774",
   "metadata": {},
   "outputs": [],
   "source": []
  },
  {
   "cell_type": "markdown",
   "id": "ac0af33a",
   "metadata": {},
   "source": [
    "# Метрические характеристики графа: диаметр, радиус, 90 процентиль (approximation)"
   ]
  },
  {
   "cell_type": "code",
   "execution_count": null,
   "id": "c8535bea",
   "metadata": {},
   "outputs": [],
   "source": []
  },
  {
   "cell_type": "code",
   "execution_count": null,
   "id": "0218cbff",
   "metadata": {},
   "outputs": [],
   "source": []
  }
 ],
 "metadata": {
  "kernelspec": {
   "display_name": "Python 3",
   "language": "python",
   "name": "python3"
  },
  "language_info": {
   "codemirror_mode": {
    "name": "ipython",
    "version": 3
   },
   "file_extension": ".py",
   "mimetype": "text/x-python",
   "name": "python",
   "nbconvert_exporter": "python",
   "pygments_lexer": "ipython3",
   "version": "3.8.8"
  },
  "toc": {
   "base_numbering": 1,
   "nav_menu": {},
   "number_sections": true,
   "sideBar": true,
   "skip_h1_title": false,
   "title_cell": "Table of Contents",
   "title_sidebar": "Contents",
   "toc_cell": false,
   "toc_position": {},
   "toc_section_display": true,
   "toc_window_display": false
  }
 },
 "nbformat": 4,
 "nbformat_minor": 5
}
