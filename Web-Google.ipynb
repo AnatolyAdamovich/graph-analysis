{
 "cells": [
  {
   "cell_type": "markdown",
   "id": "9eca32d2",
   "metadata": {},
   "source": [
    "# Библиотеки, функции"
   ]
  },
  {
   "cell_type": "code",
   "execution_count": 18,
   "id": "1b712797",
   "metadata": {},
   "outputs": [],
   "source": [
    "from graphlib.structures import Graph\n",
    "from graphlib.algorithms import DFS_with_cc\n",
    "import gzip"
   ]
  },
  {
   "cell_type": "code",
   "execution_count": null,
   "id": "be9ac622",
   "metadata": {},
   "outputs": [],
   "source": []
  },
  {
   "cell_type": "markdown",
   "id": "bda5fdde",
   "metadata": {},
   "source": [
    "# Загрузка данных, количество ребер и вершин\n",
    "Сначала рассмотрим неориентированный граф, выделим в нем компоненты слабой связности, проанализируем наибольшую компоненту"
   ]
  },
  {
   "cell_type": "code",
   "execution_count": 23,
   "id": "dee939b8",
   "metadata": {},
   "outputs": [
    {
     "name": "stdout",
     "output_type": "stream",
     "text": [
      "Неориентированная основа графа Web-google\n",
      "Graph <Google> with 875713 nodes and 4322051 edges\n",
      "Wall time: 8.68 s\n"
     ]
    }
   ],
   "source": [
    "%%time\n",
    "\n",
    "G = Graph('Google')\n",
    "with open('datasets/web-Google.txt', 'r') as f:\n",
    "    for line in f:        \n",
    "        u, v = line.split()\n",
    "        G.add_edge(u, v)\n",
    "        \n",
    "print('Неориентированная основа графа Web-google')\n",
    "print(G)"
   ]
  },
  {
   "cell_type": "code",
   "execution_count": null,
   "id": "6541e6f9",
   "metadata": {},
   "outputs": [],
   "source": []
  },
  {
   "cell_type": "markdown",
   "id": "416c943b",
   "metadata": {},
   "source": [
    "# Выделение компонент слабой связности, характеристики наибольшей компоненты"
   ]
  },
  {
   "cell_type": "code",
   "execution_count": 24,
   "id": "9fe377ef",
   "metadata": {},
   "outputs": [
    {
     "name": "stdout",
     "output_type": "stream",
     "text": [
      "Graph <subgraph::Google> with 855802 nodes and 4291352 edges\n",
      "Доля вершин в наибольшей компоненте слабой связности: 0.977\n"
     ]
    }
   ],
   "source": [
    "number, largest_index, components = DFS_with_cc(G, largest=True)\n",
    "largest_component = G.subgraph(nodes=components[largest_index])\n",
    "largest_component._name = 'the largest component::Web-google'\n",
    "print(largest_component)\n",
    "\n",
    "print(f'Доля вершин в наибольшей компоненте слабой связности: {round(largest_component.nodes_count / G.nodes_count, 3)}')"
   ]
  },
  {
   "cell_type": "code",
   "execution_count": null,
   "id": "911f61b7",
   "metadata": {},
   "outputs": [],
   "source": []
  },
  {
   "cell_type": "markdown",
   "id": "54e06a48",
   "metadata": {},
   "source": [
    "# Выделение компонент сильной связности"
   ]
  },
  {
   "cell_type": "code",
   "execution_count": null,
   "id": "8cfe6b60",
   "metadata": {},
   "outputs": [],
   "source": []
  },
  {
   "cell_type": "code",
   "execution_count": null,
   "id": "6052fa9e",
   "metadata": {},
   "outputs": [],
   "source": []
  },
  {
   "cell_type": "markdown",
   "id": "c0667c81",
   "metadata": {},
   "source": [
    "# Метрические свойства графа: радиус, диаметр и 90 процентиль (approximation)"
   ]
  },
  {
   "cell_type": "code",
   "execution_count": null,
   "id": "761cf083",
   "metadata": {},
   "outputs": [],
   "source": []
  },
  {
   "cell_type": "code",
   "execution_count": null,
   "id": "dfc7f1f4",
   "metadata": {},
   "outputs": [],
   "source": []
  },
  {
   "cell_type": "markdown",
   "id": "c9ef4441",
   "metadata": {},
   "source": [
    "# Мета-граф"
   ]
  },
  {
   "cell_type": "code",
   "execution_count": null,
   "id": "035c3c08",
   "metadata": {},
   "outputs": [],
   "source": []
  },
  {
   "cell_type": "code",
   "execution_count": null,
   "id": "6a3e79da",
   "metadata": {},
   "outputs": [],
   "source": []
  }
 ],
 "metadata": {
  "kernelspec": {
   "display_name": "Python 3",
   "language": "python",
   "name": "python3"
  },
  "language_info": {
   "codemirror_mode": {
    "name": "ipython",
    "version": 3
   },
   "file_extension": ".py",
   "mimetype": "text/x-python",
   "name": "python",
   "nbconvert_exporter": "python",
   "pygments_lexer": "ipython3",
   "version": "3.8.8"
  },
  "toc": {
   "base_numbering": 1,
   "nav_menu": {},
   "number_sections": true,
   "sideBar": true,
   "skip_h1_title": false,
   "title_cell": "Table of Contents",
   "title_sidebar": "Contents",
   "toc_cell": false,
   "toc_position": {},
   "toc_section_display": true,
   "toc_window_display": false
  }
 },
 "nbformat": 4,
 "nbformat_minor": 5
}
