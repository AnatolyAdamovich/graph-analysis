{
 "cells": [
  {
   "cell_type": "markdown",
   "id": "35636475",
   "metadata": {},
   "source": [
    "# Функции и библиотеки"
   ]
  },
  {
   "cell_type": "code",
   "execution_count": 1,
   "id": "78879031",
   "metadata": {},
   "outputs": [],
   "source": [
    "from graphlib.structures import Graph, Digraph\n",
    "import graphlib.algorithms as alg \n",
    "import graphlib.tools as tls\n",
    "\n",
    "import random\n",
    "import numpy as np\n",
    "import matplotlib.pyplot as plt\n",
    "%matplotlib inline\n",
    "import seaborn as sns\n",
    "sns.set_style(\"darkgrid\")\n",
    "sns.set(font_scale = 1.2)\n",
    "\n",
    "random.seed(0)"
   ]
  },
  {
   "cell_type": "markdown",
   "id": "3cac5c31",
   "metadata": {},
   "source": [
    "# Загрузка данных, количество ребер и вершин; плотность"
   ]
  },
  {
   "cell_type": "code",
   "execution_count": 2,
   "id": "8f8fe868",
   "metadata": {},
   "outputs": [
    {
     "name": "stdout",
     "output_type": "stream",
     "text": [
      "Ориентированный граф <Google> с 875713 вершинами and 5105039 ребрами\n",
      "Wall time: 6.94 s\n"
     ]
    }
   ],
   "source": [
    "%%time\n",
    "\n",
    "G = Digraph('Google')\n",
    "with open('datasets/web-Google.txt', 'r') as f:\n",
    "    for line in f:        \n",
    "        u, v = line.split()\n",
    "        G.add_edge(u, v)\n",
    "        \n",
    "print(G)"
   ]
  },
  {
   "cell_type": "markdown",
   "id": "b2f4438d",
   "metadata": {},
   "source": [
    "# Выделение компонент сильной и слабой связности"
   ]
  },
  {
   "cell_type": "code",
   "execution_count": 3,
   "id": "104fd27f",
   "metadata": {},
   "outputs": [
    {
     "name": "stdout",
     "output_type": "stream",
     "text": [
      "Wall time: 9.6 s\n"
     ]
    }
   ],
   "source": [
    "%%time\n",
    "number, largest_index, wcc = alg.weakly_components(G, largest=True)"
   ]
  },
  {
   "cell_type": "code",
   "execution_count": 4,
   "id": "b1770267",
   "metadata": {},
   "outputs": [
    {
     "name": "stdout",
     "output_type": "stream",
     "text": [
      "Число компонент слабой связности - 2746\n",
      "Наибольшая компонента связности: 855802 вершин и 5066842 ребер\n"
     ]
    }
   ],
   "source": [
    "print(f'Число компонент слабой связности - {number}')\n",
    "\n",
    "largest_weak_component = G.subgraph(nodes=wcc[largest_index])\n",
    "print(f'Наибольшая компонента связности: {largest_weak_component.nodes_count} вершин и {largest_weak_component.edges_count} ребер')"
   ]
  },
  {
   "cell_type": "code",
   "execution_count": 5,
   "id": "da405508",
   "metadata": {},
   "outputs": [
    {
     "name": "stdout",
     "output_type": "stream",
     "text": [
      "Wall time: 7.95 s\n"
     ]
    }
   ],
   "source": [
    "%%time\n",
    "scc = list(alg.strongly_components_tarjan(G))"
   ]
  },
  {
   "cell_type": "code",
   "execution_count": 6,
   "id": "0e0402c9",
   "metadata": {},
   "outputs": [
    {
     "name": "stdout",
     "output_type": "stream",
     "text": [
      "Число компонент сильной связности:  371764\n",
      "Наибольшая компонента сильной связности состоит из 434818 вершин и 3419124 ребер\n",
      "Доля вершин в наибольшей компоненте сильной связности: 0.497\n"
     ]
    }
   ],
   "source": [
    "print('Число компонент сильной связности: ', len(scc))\n",
    "\n",
    "largest_strong_component = G.subgraph(nodes=list(max(scc, key=lambda elem: len(elem))))\n",
    "print(f'Наибольшая компонента сильной связности состоит из {largest_strong_component.nodes_count} вершин и {largest_strong_component.edges_count} ребер')\n",
    "print(f'Доля вершин в наибольшей компоненте сильной связности: {round(largest_strong_component.nodes_count / G.nodes_count, 3)}')"
   ]
  },
  {
   "cell_type": "markdown",
   "id": "c900dfeb",
   "metadata": {},
   "source": [
    "# Мета-граф"
   ]
  },
  {
   "cell_type": "code",
   "execution_count": null,
   "id": "833f2edc",
   "metadata": {},
   "outputs": [],
   "source": []
  },
  {
   "cell_type": "markdown",
   "id": "11cce207",
   "metadata": {},
   "source": [
    "# Перевод в неориентированный граф для дальнейшего анализа"
   ]
  },
  {
   "cell_type": "code",
   "execution_count": 7,
   "id": "f6bf36d4",
   "metadata": {},
   "outputs": [
    {
     "name": "stdout",
     "output_type": "stream",
     "text": [
      "Граф <неориентированный граф, лежащий в основе Google> с 875713 вершинами and 4322051 ребрами\n",
      "Плотность графа: 4.627433740933122e-07\n",
      "Wall time: 7.01 s\n"
     ]
    }
   ],
   "source": [
    "%%time\n",
    "# перевод в неориентированный граф\n",
    "G = G.to_simple()\n",
    "print(G)\n",
    "print(f'Плотность графа: {tls.density(G)}')"
   ]
  },
  {
   "cell_type": "markdown",
   "id": "c8c1c013",
   "metadata": {},
   "source": [
    "# Количество компонент связности, характеристики наибольшей компоненты"
   ]
  },
  {
   "cell_type": "code",
   "execution_count": 8,
   "id": "2545a7ae",
   "metadata": {},
   "outputs": [
    {
     "name": "stdout",
     "output_type": "stream",
     "text": [
      "Wall time: 8.62 s\n"
     ]
    }
   ],
   "source": [
    "%%time\n",
    "\n",
    "number, largest_index, components = alg.DFS_with_cc(G, largest=True)\n",
    "largest_component = G.subgraph(nodes=components[largest_index])"
   ]
  },
  {
   "cell_type": "code",
   "execution_count": 9,
   "id": "c296357a",
   "metadata": {},
   "outputs": [
    {
     "name": "stdout",
     "output_type": "stream",
     "text": [
      "Количество компонент связности - 2746\n",
      "Наибольшая компонента связности: 855802 вершин и 4291352 ребер\n"
     ]
    }
   ],
   "source": [
    "print(f'Количество компонент связности - {number}')\n",
    "print(f'Наибольшая компонента связности: {largest_component.nodes_count} вершин и {largest_component.edges_count} ребер',)"
   ]
  },
  {
   "cell_type": "code",
   "execution_count": 10,
   "id": "bac66d7f",
   "metadata": {},
   "outputs": [
    {
     "name": "stdout",
     "output_type": "stream",
     "text": [
      "Доля вершин в наибольшей компоненте слабой связности: 0.977\n"
     ]
    }
   ],
   "source": [
    "nodes_in_largest_component = largest_component.nodes\n",
    "print(f'Доля вершин в наибольшей компоненте слабой связности: {round(largest_component.nodes_count / G.nodes_count, 3)}')"
   ]
  },
  {
   "cell_type": "markdown",
   "id": "6ac70cb9",
   "metadata": {},
   "source": [
    "## Доля вершин в текущей компоненте слабой связности при удалении x% случайных вершин"
   ]
  },
  {
   "cell_type": "code",
   "execution_count": 11,
   "id": "0662366a",
   "metadata": {},
   "outputs": [
    {
     "name": "stdout",
     "output_type": "stream",
     "text": [
      "Wall time: 6.38 s\n"
     ]
    },
    {
     "data": {
      "text/plain": [
       "Text(0, 0.5, 'Доля вершин в наибольшей компоненте')"
      ]
     },
     "execution_count": 11,
     "metadata": {},
     "output_type": "execute_result"
    },
    {
     "data": {
      "image/png": "[encoded data removed]",
      "text/plain": [
       "<Figure size 1008x504 with 1 Axes>"
      ]
     },
     "metadata": {
      "needs_background": "light"
     },
     "output_type": "display_data"
    }
   ],
   "source": [
    "%%time\n",
    "\n",
    "procent_of_removing = np.arange(5, 80, 5) # от 5 до 75 с шагом 5\n",
    "props = []\n",
    "for x in procent_of_removing:\n",
    "    n = round(G.nodes_count * (x/100)) # число удаляемых вершин\n",
    "    removing_nodes = G.selection(x=n,\n",
    "                                 most_degree=False)\n",
    "    tmp_set = nodes_in_largest_component - removing_nodes\n",
    "    proportion = len(tmp_set) / (G.nodes_count-n)\n",
    "    props.append(proportion)\n",
    "    \n",
    "\n",
    "plt.figure(figsize=(14, 7))\n",
    "plt.plot(procent_of_removing, props, 'm')\n",
    "plt.ylim(0.9, 1)\n",
    "plt.xlabel('Процент удаленных случайных вершин')\n",
    "plt.ylabel('Доля вершин в наибольшей компоненте')"
   ]
  },
  {
   "cell_type": "markdown",
   "id": "a8c75689",
   "metadata": {},
   "source": [
    "## Доля вершин в новой наибольшей компоненте слабой связности при удалении x% случайных вершин"
   ]
  },
  {
   "cell_type": "code",
   "execution_count": 12,
   "id": "6a17cb67",
   "metadata": {},
   "outputs": [
    {
     "data": {
      "text/plain": [
       "Text(0, 0.5, 'Доля вершин в наибольшей компоненте')"
      ]
     },
     "execution_count": 12,
     "metadata": {},
     "output_type": "execute_result"
    },
    {
     "data": {
      "image/png": "[encoded data removed]",
      "text/plain": [
       "<Figure size 1008x504 with 1 Axes>"
      ]
     },
     "metadata": {
      "needs_background": "light"
     },
     "output_type": "display_data"
    }
   ],
   "source": [
    "procent_of_removing = np.arange(5, 80, 5) # от 5 до 75 с шагом 5\n",
    "props = []\n",
    "for x in procent_of_removing:\n",
    "    # удаление вершин\n",
    "    n = round(G.nodes_count * (x/100))\n",
    "    removing_nodes = G.selection(x=n,\n",
    "                                 most_degree=False)\n",
    "    tmp_set = G.nodes - removing_nodes\n",
    "    \n",
    "    # выделение новой компоненты\n",
    "    G_after_removing = G.subgraph(nodes=tmp_set)\n",
    "    _, largest_i, cc = alg.DFS_with_cc(G_after_removing, largest=True)\n",
    "    largest_c = G_after_removing.subgraph(nodes=cc[largest_i])\n",
    "    \n",
    "    # подсчет доли\n",
    "    proportion = round(largest_c.nodes_count / G_after_removing.nodes_count, 3)\n",
    "    props.append(proportion)\n",
    "\n",
    "plt.figure(figsize=(14, 7))\n",
    "plt.plot(procent_of_removing, props, 'm')\n",
    "plt.ylim(0, 1)\n",
    "plt.xlabel('Процент удаленных случайных вершин')\n",
    "plt.ylabel('Доля вершин в наибольшей компоненте')"
   ]
  },
  {
   "cell_type": "markdown",
   "id": "2261a1a9",
   "metadata": {},
   "source": [
    "## Доля вершин в текущей компоненте слабой связности при удалении x% вершин наибольшей степени"
   ]
  },
  {
   "cell_type": "code",
   "execution_count": 13,
   "id": "2caae181",
   "metadata": {},
   "outputs": [
    {
     "name": "stdout",
     "output_type": "stream",
     "text": [
      "Wall time: 12.8 s\n"
     ]
    },
    {
     "data": {
      "text/plain": [
       "Text(0, 0.5, 'Доля вершин в наибольшей компоненте')"
      ]
     },
     "execution_count": 13,
     "metadata": {},
     "output_type": "execute_result"
    },
    {
     "data": {
      "image/png": "[encoded data removed]",
      "text/plain": [
       "<Figure size 1008x504 with 1 Axes>"
      ]
     },
     "metadata": {
      "needs_background": "light"
     },
     "output_type": "display_data"
    }
   ],
   "source": [
    "%%time\n",
    "\n",
    "procent_of_removing = np.arange(5, 80, 5) # от 5 до 75 с шагом 5\n",
    "props = []\n",
    "for x in procent_of_removing:\n",
    "    n = round(G.nodes_count * (x/100)) # число удаляемых вершин\n",
    "    removing_nodes = G.selection(x=n,\n",
    "                                 most_degree=True)\n",
    "    tmp_set = nodes_in_largest_component - removing_nodes\n",
    "    proportion = len(tmp_set) / (G.nodes_count-n)\n",
    "    props.append(proportion)\n",
    "    \n",
    "\n",
    "plt.figure(figsize=(14, 7))\n",
    "plt.plot(procent_of_removing, props, 'm')\n",
    "plt.ylim(0.8, 1)\n",
    "plt.xlabel('Процент удаленных вершин наибольшей степени')\n",
    "plt.ylabel('Доля вершин в наибольшей компоненте')"
   ]
  },
  {
   "cell_type": "markdown",
   "id": "46c9c9ab",
   "metadata": {},
   "source": [
    "## Доля вершин в новой наибольшей компоненте слабой связности при удалении x%   вершин наибольшей степени"
   ]
  },
  {
   "cell_type": "code",
   "execution_count": 14,
   "id": "e99346e9",
   "metadata": {},
   "outputs": [
    {
     "data": {
      "text/plain": [
       "Text(0, 0.5, 'Доля вершин в наибольшей компоненте')"
      ]
     },
     "execution_count": 14,
     "metadata": {},
     "output_type": "execute_result"
    },
    {
     "data": {
      "image/png": "[encoded data removed]",
      "text/plain": [
       "<Figure size 1008x504 with 1 Axes>"
      ]
     },
     "metadata": {
      "needs_background": "light"
     },
     "output_type": "display_data"
    }
   ],
   "source": [
    "procent_of_removing = np.arange(5, 80, 5) # от 5 до 75 с шагом 5\n",
    "props = []\n",
    "for x in procent_of_removing:\n",
    "    # удаление вершин\n",
    "    n = round(G.nodes_count * (x/100))\n",
    "    removing_nodes = G.selection(x=n,\n",
    "                                 most_degree=True)\n",
    "    tmp_set = G.nodes - removing_nodes\n",
    "    \n",
    "    # выделение новой компоненты\n",
    "    G_after_removing = G.subgraph(nodes=tmp_set)\n",
    "    _, largest_i, cc = alg.DFS_with_cc(G_after_removing, largest=True)\n",
    "    largest_c = G_after_removing.subgraph(nodes=cc[largest_i])\n",
    "    \n",
    "    # подсчет доли\n",
    "    proportion = round(largest_c.nodes_count / G_after_removing.nodes_count, 3)\n",
    "    props.append(proportion)\n",
    "\n",
    "plt.figure(figsize=(14, 7))\n",
    "plt.plot(procent_of_removing, props, 'm')\n",
    "plt.ylim(0, 1)\n",
    "plt.xlabel('Процент удаленных случайных вершин')\n",
    "plt.ylabel('Доля вершин в наибольшей компоненте')"
   ]
  },
  {
   "cell_type": "markdown",
   "id": "b70be27c",
   "metadata": {},
   "source": [
    "# Метрические характеристики графа: диаметр, радиус и 90 процентиль (approximation)"
   ]
  },
  {
   "cell_type": "code",
   "execution_count": 15,
   "id": "951c8eed",
   "metadata": {},
   "outputs": [
    {
     "ename": "KeyboardInterrupt",
     "evalue": "",
     "output_type": "error",
     "traceback": [
      "\u001b[1;31m---------------------------------------------------------------------------\u001b[0m",
      "\u001b[1;31mKeyboardInterrupt\u001b[0m                         Traceback (most recent call last)",
      "\u001b[1;32m<timed exec>\u001b[0m in \u001b[0;36m<module>\u001b[1;34m\u001b[0m\n",
      "\u001b[1;32m~\\information_technology\\third_year\\6th\\graphs\\project\\graphlib\\tools\\useful_functions.py\u001b[0m in \u001b[0;36mdiameter_approximate\u001b[1;34m(graph, number, nodes, with_nodes)\u001b[0m\n\u001b[0;32m     56\u001b[0m         \u001b[1;32mfor\u001b[0m \u001b[0mj\u001b[0m \u001b[1;32min\u001b[0m \u001b[0mrange\u001b[0m\u001b[1;33m(\u001b[0m\u001b[0mi\u001b[0m\u001b[1;33m+\u001b[0m\u001b[1;36m1\u001b[0m\u001b[1;33m,\u001b[0m \u001b[0mlen\u001b[0m\u001b[1;33m(\u001b[0m\u001b[0mnodes\u001b[0m\u001b[1;33m)\u001b[0m\u001b[1;33m)\u001b[0m\u001b[1;33m:\u001b[0m\u001b[1;33m\u001b[0m\u001b[1;33m\u001b[0m\u001b[0m\n\u001b[0;32m     57\u001b[0m             \u001b[0mv\u001b[0m \u001b[1;33m=\u001b[0m \u001b[0mnodes\u001b[0m\u001b[1;33m[\u001b[0m\u001b[0mj\u001b[0m\u001b[1;33m]\u001b[0m\u001b[1;33m\u001b[0m\u001b[1;33m\u001b[0m\u001b[0m\n\u001b[1;32m---> 58\u001b[1;33m             \u001b[0mcurrent_distance\u001b[0m \u001b[1;33m=\u001b[0m \u001b[0mBFS_search\u001b[0m\u001b[1;33m(\u001b[0m\u001b[0mgraph\u001b[0m\u001b[1;33m,\u001b[0m \u001b[0mu\u001b[0m\u001b[1;33m,\u001b[0m \u001b[0mv\u001b[0m\u001b[1;33m,\u001b[0m \u001b[0mlength\u001b[0m\u001b[1;33m=\u001b[0m\u001b[1;32mTrue\u001b[0m\u001b[1;33m)\u001b[0m\u001b[1;33m\u001b[0m\u001b[1;33m\u001b[0m\u001b[0m\n\u001b[0m\u001b[0;32m     59\u001b[0m             \u001b[1;32mif\u001b[0m \u001b[0mcurrent_distance\u001b[0m \u001b[1;33m>\u001b[0m \u001b[0md\u001b[0m\u001b[1;33m:\u001b[0m\u001b[1;33m\u001b[0m\u001b[1;33m\u001b[0m\u001b[0m\n\u001b[0;32m     60\u001b[0m                 \u001b[0md\u001b[0m \u001b[1;33m=\u001b[0m \u001b[0mcurrent_distance\u001b[0m\u001b[1;33m\u001b[0m\u001b[1;33m\u001b[0m\u001b[0m\n",
      "\u001b[1;32m~\\information_technology\\third_year\\6th\\graphs\\project\\graphlib\\algorithms\\BFS.py\u001b[0m in \u001b[0;36mBFS_search\u001b[1;34m(graph, start_u, finish_v, length)\u001b[0m\n\u001b[0;32m     74\u001b[0m             \u001b[1;32mif\u001b[0m \u001b[0mv\u001b[0m \u001b[1;32mnot\u001b[0m \u001b[1;32min\u001b[0m \u001b[0mvisited\u001b[0m\u001b[1;33m:\u001b[0m\u001b[1;33m\u001b[0m\u001b[1;33m\u001b[0m\u001b[0m\n\u001b[0;32m     75\u001b[0m                 \u001b[0mvisited\u001b[0m\u001b[1;33m.\u001b[0m\u001b[0madd\u001b[0m\u001b[1;33m(\u001b[0m\u001b[0mv\u001b[0m\u001b[1;33m)\u001b[0m\u001b[1;33m\u001b[0m\u001b[1;33m\u001b[0m\u001b[0m\n\u001b[1;32m---> 76\u001b[1;33m                 \u001b[0mnew_state\u001b[0m \u001b[1;33m=\u001b[0m \u001b[0mStateOfNode\u001b[0m\u001b[1;33m(\u001b[0m\u001b[0mv\u001b[0m\u001b[1;33m,\u001b[0m \u001b[0mcurrent_state\u001b[0m\u001b[1;33m)\u001b[0m\u001b[1;33m\u001b[0m\u001b[1;33m\u001b[0m\u001b[0m\n\u001b[0m\u001b[0;32m     77\u001b[0m                 \u001b[0mavailable_nodes\u001b[0m\u001b[1;33m.\u001b[0m\u001b[0mappend\u001b[0m\u001b[1;33m(\u001b[0m\u001b[0mnew_state\u001b[0m\u001b[1;33m)\u001b[0m\u001b[1;33m\u001b[0m\u001b[1;33m\u001b[0m\u001b[0m\n\u001b[0;32m     78\u001b[0m     \u001b[1;31m# если пути не обнаружено\u001b[0m\u001b[1;33m\u001b[0m\u001b[1;33m\u001b[0m\u001b[1;33m\u001b[0m\u001b[0m\n",
      "\u001b[1;32m~\\information_technology\\third_year\\6th\\graphs\\project\\graphlib\\algorithms\\BFS.py\u001b[0m in \u001b[0;36m__init__\u001b[1;34m(self, v, parent_state)\u001b[0m\n\u001b[0;32m     45\u001b[0m     \u001b[1;32mdef\u001b[0m \u001b[0m__init__\u001b[0m\u001b[1;33m(\u001b[0m\u001b[0mself\u001b[0m\u001b[1;33m,\u001b[0m \u001b[0mv\u001b[0m\u001b[1;33m,\u001b[0m \u001b[0mparent_state\u001b[0m\u001b[1;33m)\u001b[0m\u001b[1;33m:\u001b[0m\u001b[1;33m\u001b[0m\u001b[1;33m\u001b[0m\u001b[0m\n\u001b[0;32m     46\u001b[0m         \u001b[0mself\u001b[0m\u001b[1;33m.\u001b[0m\u001b[0mnode\u001b[0m \u001b[1;33m=\u001b[0m \u001b[0mv\u001b[0m\u001b[1;33m\u001b[0m\u001b[1;33m\u001b[0m\u001b[0m\n\u001b[1;32m---> 47\u001b[1;33m         \u001b[0mself\u001b[0m\u001b[1;33m.\u001b[0m\u001b[0mparent\u001b[0m \u001b[1;33m=\u001b[0m \u001b[0mparent_state\u001b[0m\u001b[1;33m\u001b[0m\u001b[1;33m\u001b[0m\u001b[0m\n\u001b[0m\u001b[0;32m     48\u001b[0m \u001b[1;33m\u001b[0m\u001b[0m\n\u001b[0;32m     49\u001b[0m \u001b[1;33m\u001b[0m\u001b[0m\n",
      "\u001b[1;31mKeyboardInterrupt\u001b[0m: "
     ]
    }
   ],
   "source": [
    "%%time\n",
    "\n",
    "diam = tls.diameter_approximate(graph=largest_component,\n",
    "                            number=500)"
   ]
  },
  {
   "cell_type": "code",
   "execution_count": 16,
   "id": "aeb8e173",
   "metadata": {},
   "outputs": [
    {
     "ename": "KeyboardInterrupt",
     "evalue": "",
     "output_type": "error",
     "traceback": [
      "\u001b[1;31m---------------------------------------------------------------------------\u001b[0m",
      "\u001b[1;31mKeyboardInterrupt\u001b[0m                         Traceback (most recent call last)",
      "\u001b[1;32m<timed exec>\u001b[0m in \u001b[0;36m<module>\u001b[1;34m\u001b[0m\n",
      "\u001b[1;32m~\\information_technology\\third_year\\6th\\graphs\\project\\graphlib\\tools\\useful_functions.py\u001b[0m in \u001b[0;36mradius_approximate\u001b[1;34m(graph, number, nodes, with_nodes)\u001b[0m\n\u001b[0;32m     93\u001b[0m         \u001b[1;31m# поиск наибольшего расстояния между 'u' и другой вершиной\u001b[0m\u001b[1;33m\u001b[0m\u001b[1;33m\u001b[0m\u001b[1;33m\u001b[0m\u001b[0m\n\u001b[0;32m     94\u001b[0m         \u001b[1;32mfor\u001b[0m \u001b[0mv\u001b[0m \u001b[1;32min\u001b[0m \u001b[0mnodes\u001b[0m\u001b[1;33m:\u001b[0m\u001b[1;33m\u001b[0m\u001b[1;33m\u001b[0m\u001b[0m\n\u001b[1;32m---> 95\u001b[1;33m             \u001b[0mgeo_dist\u001b[0m \u001b[1;33m=\u001b[0m \u001b[0mBFS_search\u001b[0m\u001b[1;33m(\u001b[0m\u001b[0mgraph\u001b[0m\u001b[1;33m,\u001b[0m \u001b[0mstart_u\u001b[0m\u001b[1;33m=\u001b[0m\u001b[0mu\u001b[0m\u001b[1;33m,\u001b[0m \u001b[0mfinish_v\u001b[0m\u001b[1;33m=\u001b[0m\u001b[0mv\u001b[0m\u001b[1;33m,\u001b[0m \u001b[0mlength\u001b[0m\u001b[1;33m=\u001b[0m\u001b[1;32mTrue\u001b[0m\u001b[1;33m)\u001b[0m\u001b[1;33m\u001b[0m\u001b[1;33m\u001b[0m\u001b[0m\n\u001b[0m\u001b[0;32m     96\u001b[0m             \u001b[1;32mif\u001b[0m \u001b[0mgeo_dist\u001b[0m \u001b[1;33m>\u001b[0m \u001b[0mmax_geodesic_dist_for_u\u001b[0m\u001b[1;33m:\u001b[0m\u001b[1;33m\u001b[0m\u001b[1;33m\u001b[0m\u001b[0m\n\u001b[0;32m     97\u001b[0m                 \u001b[0mmax_geodesic_dist_for_u\u001b[0m \u001b[1;33m=\u001b[0m \u001b[0mgeo_dist\u001b[0m\u001b[1;33m\u001b[0m\u001b[1;33m\u001b[0m\u001b[0m\n",
      "\u001b[1;32m~\\information_technology\\third_year\\6th\\graphs\\project\\graphlib\\algorithms\\BFS.py\u001b[0m in \u001b[0;36mBFS_search\u001b[1;34m(graph, start_u, finish_v, length)\u001b[0m\n\u001b[0;32m     73\u001b[0m                 \u001b[1;32mreturn\u001b[0m \u001b[0mlist\u001b[0m\u001b[1;33m(\u001b[0m\u001b[0mreversed\u001b[0m\u001b[1;33m(\u001b[0m\u001b[0mpath\u001b[0m\u001b[1;33m)\u001b[0m\u001b[1;33m)\u001b[0m\u001b[1;33m\u001b[0m\u001b[1;33m\u001b[0m\u001b[0m\n\u001b[0;32m     74\u001b[0m             \u001b[1;32mif\u001b[0m \u001b[0mv\u001b[0m \u001b[1;32mnot\u001b[0m \u001b[1;32min\u001b[0m \u001b[0mvisited\u001b[0m\u001b[1;33m:\u001b[0m\u001b[1;33m\u001b[0m\u001b[1;33m\u001b[0m\u001b[0m\n\u001b[1;32m---> 75\u001b[1;33m                 \u001b[0mvisited\u001b[0m\u001b[1;33m.\u001b[0m\u001b[0madd\u001b[0m\u001b[1;33m(\u001b[0m\u001b[0mv\u001b[0m\u001b[1;33m)\u001b[0m\u001b[1;33m\u001b[0m\u001b[1;33m\u001b[0m\u001b[0m\n\u001b[0m\u001b[0;32m     76\u001b[0m                 \u001b[0mnew_state\u001b[0m \u001b[1;33m=\u001b[0m \u001b[0mStateOfNode\u001b[0m\u001b[1;33m(\u001b[0m\u001b[0mv\u001b[0m\u001b[1;33m,\u001b[0m \u001b[0mcurrent_state\u001b[0m\u001b[1;33m)\u001b[0m\u001b[1;33m\u001b[0m\u001b[1;33m\u001b[0m\u001b[0m\n\u001b[0;32m     77\u001b[0m                 \u001b[0mavailable_nodes\u001b[0m\u001b[1;33m.\u001b[0m\u001b[0mappend\u001b[0m\u001b[1;33m(\u001b[0m\u001b[0mnew_state\u001b[0m\u001b[1;33m)\u001b[0m\u001b[1;33m\u001b[0m\u001b[1;33m\u001b[0m\u001b[0m\n",
      "\u001b[1;31mKeyboardInterrupt\u001b[0m: "
     ]
    }
   ],
   "source": [
    "%%time\n",
    "\n",
    "radius = tls.radius_approximate(graph=largest_component,\n",
    "                            number=500)"
   ]
  },
  {
   "cell_type": "code",
   "execution_count": 17,
   "id": "6f72a42a",
   "metadata": {},
   "outputs": [
    {
     "ename": "KeyboardInterrupt",
     "evalue": "",
     "output_type": "error",
     "traceback": [
      "\u001b[1;31m---------------------------------------------------------------------------\u001b[0m",
      "\u001b[1;31mKeyboardInterrupt\u001b[0m                         Traceback (most recent call last)",
      "\u001b[1;32m<timed exec>\u001b[0m in \u001b[0;36m<module>\u001b[1;34m\u001b[0m\n",
      "\u001b[1;32m~\\information_technology\\third_year\\6th\\graphs\\project\\graphlib\\tools\\useful_functions.py\u001b[0m in \u001b[0;36mgeodesic_percentile_approximate\u001b[1;34m(graph, number, percent)\u001b[0m\n\u001b[0;32m     22\u001b[0m         \u001b[0mu\u001b[0m \u001b[1;33m=\u001b[0m \u001b[0mnodes\u001b[0m\u001b[1;33m.\u001b[0m\u001b[0mpop\u001b[0m\u001b[1;33m(\u001b[0m\u001b[1;33m)\u001b[0m\u001b[1;33m\u001b[0m\u001b[1;33m\u001b[0m\u001b[0m\n\u001b[0;32m     23\u001b[0m         \u001b[1;32mfor\u001b[0m \u001b[0mv\u001b[0m \u001b[1;32min\u001b[0m \u001b[0mnodes\u001b[0m\u001b[1;33m:\u001b[0m\u001b[1;33m\u001b[0m\u001b[1;33m\u001b[0m\u001b[0m\n\u001b[1;32m---> 24\u001b[1;33m             \u001b[0md\u001b[0m \u001b[1;33m=\u001b[0m \u001b[0mBFS_search\u001b[0m\u001b[1;33m(\u001b[0m\u001b[0mgraph\u001b[0m\u001b[1;33m,\u001b[0m \u001b[0mstart_u\u001b[0m\u001b[1;33m=\u001b[0m\u001b[0mu\u001b[0m\u001b[1;33m,\u001b[0m \u001b[0mfinish_v\u001b[0m\u001b[1;33m=\u001b[0m\u001b[0mv\u001b[0m\u001b[1;33m,\u001b[0m \u001b[0mlength\u001b[0m\u001b[1;33m=\u001b[0m\u001b[1;32mTrue\u001b[0m\u001b[1;33m)\u001b[0m\u001b[1;33m\u001b[0m\u001b[1;33m\u001b[0m\u001b[0m\n\u001b[0m\u001b[0;32m     25\u001b[0m             \u001b[0mlist_with_distances\u001b[0m\u001b[1;33m.\u001b[0m\u001b[0mappend\u001b[0m\u001b[1;33m(\u001b[0m\u001b[0md\u001b[0m\u001b[1;33m)\u001b[0m\u001b[1;33m\u001b[0m\u001b[1;33m\u001b[0m\u001b[0m\n\u001b[0;32m     26\u001b[0m     \u001b[0mlist_with_distances\u001b[0m\u001b[1;33m.\u001b[0m\u001b[0msort\u001b[0m\u001b[1;33m(\u001b[0m\u001b[1;33m)\u001b[0m\u001b[1;33m\u001b[0m\u001b[1;33m\u001b[0m\u001b[0m\n",
      "\u001b[1;32m~\\information_technology\\third_year\\6th\\graphs\\project\\graphlib\\algorithms\\BFS.py\u001b[0m in \u001b[0;36mBFS_search\u001b[1;34m(graph, start_u, finish_v, length)\u001b[0m\n\u001b[0;32m     74\u001b[0m             \u001b[1;32mif\u001b[0m \u001b[0mv\u001b[0m \u001b[1;32mnot\u001b[0m \u001b[1;32min\u001b[0m \u001b[0mvisited\u001b[0m\u001b[1;33m:\u001b[0m\u001b[1;33m\u001b[0m\u001b[1;33m\u001b[0m\u001b[0m\n\u001b[0;32m     75\u001b[0m                 \u001b[0mvisited\u001b[0m\u001b[1;33m.\u001b[0m\u001b[0madd\u001b[0m\u001b[1;33m(\u001b[0m\u001b[0mv\u001b[0m\u001b[1;33m)\u001b[0m\u001b[1;33m\u001b[0m\u001b[1;33m\u001b[0m\u001b[0m\n\u001b[1;32m---> 76\u001b[1;33m                 \u001b[0mnew_state\u001b[0m \u001b[1;33m=\u001b[0m \u001b[0mStateOfNode\u001b[0m\u001b[1;33m(\u001b[0m\u001b[0mv\u001b[0m\u001b[1;33m,\u001b[0m \u001b[0mcurrent_state\u001b[0m\u001b[1;33m)\u001b[0m\u001b[1;33m\u001b[0m\u001b[1;33m\u001b[0m\u001b[0m\n\u001b[0m\u001b[0;32m     77\u001b[0m                 \u001b[0mavailable_nodes\u001b[0m\u001b[1;33m.\u001b[0m\u001b[0mappend\u001b[0m\u001b[1;33m(\u001b[0m\u001b[0mnew_state\u001b[0m\u001b[1;33m)\u001b[0m\u001b[1;33m\u001b[0m\u001b[1;33m\u001b[0m\u001b[0m\n\u001b[0;32m     78\u001b[0m     \u001b[1;31m# если пути не обнаружено\u001b[0m\u001b[1;33m\u001b[0m\u001b[1;33m\u001b[0m\u001b[1;33m\u001b[0m\u001b[0m\n",
      "\u001b[1;32m~\\information_technology\\third_year\\6th\\graphs\\project\\graphlib\\algorithms\\BFS.py\u001b[0m in \u001b[0;36m__init__\u001b[1;34m(self, v, parent_state)\u001b[0m\n\u001b[0;32m     45\u001b[0m     \u001b[1;32mdef\u001b[0m \u001b[0m__init__\u001b[0m\u001b[1;33m(\u001b[0m\u001b[0mself\u001b[0m\u001b[1;33m,\u001b[0m \u001b[0mv\u001b[0m\u001b[1;33m,\u001b[0m \u001b[0mparent_state\u001b[0m\u001b[1;33m)\u001b[0m\u001b[1;33m:\u001b[0m\u001b[1;33m\u001b[0m\u001b[1;33m\u001b[0m\u001b[0m\n\u001b[0;32m     46\u001b[0m         \u001b[0mself\u001b[0m\u001b[1;33m.\u001b[0m\u001b[0mnode\u001b[0m \u001b[1;33m=\u001b[0m \u001b[0mv\u001b[0m\u001b[1;33m\u001b[0m\u001b[1;33m\u001b[0m\u001b[0m\n\u001b[1;32m---> 47\u001b[1;33m         \u001b[0mself\u001b[0m\u001b[1;33m.\u001b[0m\u001b[0mparent\u001b[0m \u001b[1;33m=\u001b[0m \u001b[0mparent_state\u001b[0m\u001b[1;33m\u001b[0m\u001b[1;33m\u001b[0m\u001b[0m\n\u001b[0m\u001b[0;32m     48\u001b[0m \u001b[1;33m\u001b[0m\u001b[0m\n\u001b[0;32m     49\u001b[0m \u001b[1;33m\u001b[0m\u001b[0m\n",
      "\u001b[1;31mKeyboardInterrupt\u001b[0m: "
     ]
    }
   ],
   "source": [
    "%%time\n",
    "\n",
    "percentile = tls.geodesic_percentile_approximate(graph=largest_component,\n",
    "                                             number=500,\n",
    "                                             percent=90)"
   ]
  },
  {
   "cell_type": "code",
   "execution_count": 18,
   "id": "4aa2bb56",
   "metadata": {},
   "outputs": [
    {
     "ename": "NameError",
     "evalue": "name 'diam' is not defined",
     "output_type": "error",
     "traceback": [
      "\u001b[1;31m---------------------------------------------------------------------------\u001b[0m",
      "\u001b[1;31mNameError\u001b[0m                                 Traceback (most recent call last)",
      "\u001b[1;32m<ipython-input-18-355813ab9703>\u001b[0m in \u001b[0;36m<module>\u001b[1;34m\u001b[0m\n\u001b[1;32m----> 1\u001b[1;33m \u001b[0mprint\u001b[0m\u001b[1;33m(\u001b[0m\u001b[1;34mf'Диаметр наибольшей компоненты (приближенно): {diam}'\u001b[0m\u001b[1;33m)\u001b[0m\u001b[1;33m\u001b[0m\u001b[1;33m\u001b[0m\u001b[0m\n\u001b[0m\u001b[0;32m      2\u001b[0m \u001b[0mprint\u001b[0m\u001b[1;33m(\u001b[0m\u001b[1;34mf'Радиус наибольшей компоненты (приближенно): {radius}'\u001b[0m\u001b[1;33m)\u001b[0m\u001b[1;33m\u001b[0m\u001b[1;33m\u001b[0m\u001b[0m\n\u001b[0;32m      3\u001b[0m \u001b[0mprint\u001b[0m\u001b[1;33m(\u001b[0m\u001b[1;34mf'90% процентиль геодезического расстояния в наибольшей компоненте (приближенно): {percentile}'\u001b[0m\u001b[1;33m)\u001b[0m\u001b[1;33m\u001b[0m\u001b[1;33m\u001b[0m\u001b[0m\n",
      "\u001b[1;31mNameError\u001b[0m: name 'diam' is not defined"
     ]
    }
   ],
   "source": [
    "print(f'Диаметр наибольшей компоненты (приближенно): {diam}')\n",
    "print(f'Радиус наибольшей компоненты (приближенно): {radius}')\n",
    "print(f'90% процентиль геодезического расстояния в наибольшей компоненте (приближенно): {percentile}')"
   ]
  },
  {
   "cell_type": "markdown",
   "id": "8b6a183b",
   "metadata": {},
   "source": [
    "# Функция вероятности для степени узла в графе\n",
    "Минимальная, максимальная, средняя степень узла в графе. Надо построить функцию вероятности (можно в виде гистограммы относительных частот)"
   ]
  },
  {
   "cell_type": "code",
   "execution_count": 19,
   "id": "d8bf5d27",
   "metadata": {},
   "outputs": [
    {
     "name": "stdout",
     "output_type": "stream",
     "text": [
      "Wall time: 823 ms\n"
     ]
    }
   ],
   "source": [
    "%%time\n",
    "degrees = list(map(lambda elem: elem[1], list(G.node_degrees())))\n",
    "max_deg = max(degrees)\n",
    "min_deg = min(degrees)\n",
    "mean_deg = int(sum(degrees)/ len(degrees))"
   ]
  },
  {
   "cell_type": "code",
   "execution_count": 20,
   "id": "af2540b6",
   "metadata": {},
   "outputs": [
    {
     "name": "stdout",
     "output_type": "stream",
     "text": [
      "Максимальная степень узла: 6332\n",
      "Минимальная степень узла: 1\n",
      "Средняя степень узла: 9\n"
     ]
    }
   ],
   "source": [
    "print('Максимальная степень узла:', max(degrees))\n",
    "print('Минимальная степень узла:', min(degrees))\n",
    "print('Средняя степень узла:', int(sum(degrees)/len(degrees)))"
   ]
  },
  {
   "cell_type": "code",
   "execution_count": 37,
   "id": "20693474",
   "metadata": {},
   "outputs": [
    {
     "data": {
      "text/plain": [
       "(0.0, 500.0)"
      ]
     },
     "execution_count": 37,
     "metadata": {},
     "output_type": "execute_result"
    },
    {
     "data": {
      "image/png": "[encoded data removed]",
      "text/plain": [
       "<Figure size 1152x504 with 1 Axes>"
      ]
     },
     "metadata": {
      "needs_background": "light"
     },
     "output_type": "display_data"
    }
   ],
   "source": [
    "plt.figure(figsize=(16, 7))\n",
    "plt.hist(np.array(degrees), bins=100, color='m')\n",
    "plt.title('Гистограмма частот степеней вершин')\n",
    "plt.xlim(0, 3000)\n",
    "plt.xlabel('Степень вершины')\n",
    "plt.ylabel('Количество вершин')"
   ]
  },
  {
   "cell_type": "code",
   "execution_count": 27,
   "id": "564cc4eb",
   "metadata": {},
   "outputs": [
    {
     "data": {
      "text/plain": [
       "Text(0, 0.5, 'Вероятность')"
      ]
     },
     "execution_count": 27,
     "metadata": {},
     "output_type": "execute_result"
    },
    {
     "data": {
      "image/png": "[encoded data removed]",
      "text/plain": [
       "<Figure size 1152x504 with 1 Axes>"
      ]
     },
     "metadata": {
      "needs_background": "light"
     },
     "output_type": "display_data"
    }
   ],
   "source": [
    "plt.figure(figsize=(16, 7))\n",
    "x_axis = np.arange(min_deg, max_deg+1)\n",
    "y_axis = np.bincount(degrees) / G.nodes_count\n",
    "y_axis = y_axis[min_deg:] # не учитываем нулевую степень\n",
    "plt.plot(x_axis, y_axis, c='m')\n",
    "\n",
    "plt.xlim(0, 1000)\n",
    "plt.title('Функция вероятности для степеней вершин в обычных шкалах')\n",
    "plt.xlabel('Степень')\n",
    "plt.ylabel('Вероятность')"
   ]
  },
  {
   "cell_type": "code",
   "execution_count": 28,
   "id": "c6543000",
   "metadata": {},
   "outputs": [
    {
     "data": {
      "text/plain": [
       "Text(0, 0.5, 'Вероятность')"
      ]
     },
     "execution_count": 28,
     "metadata": {},
     "output_type": "execute_result"
    },
    {
     "data": {
      "image/png": "[encoded data removed]",
      "text/plain": [
       "<Figure size 1080x504 with 1 Axes>"
      ]
     },
     "metadata": {
      "needs_background": "light"
     },
     "output_type": "display_data"
    }
   ],
   "source": [
    "plt.figure(figsize=(15,7))\n",
    "plt.loglog(x_axis, y_axis, c='m')\n",
    "plt.title('Функция вероятности для степеней вершин в log-log шкалах')\n",
    "plt.xlabel('Степень')\n",
    "plt.ylabel('Вероятность')"
   ]
  },
  {
   "cell_type": "markdown",
   "id": "979d3878",
   "metadata": {},
   "source": [
    "# Число треугольников, глобальный и кластерный коэффициенты"
   ]
  },
  {
   "cell_type": "code",
   "execution_count": 29,
   "id": "b70e3e52",
   "metadata": {},
   "outputs": [
    {
     "name": "stdout",
     "output_type": "stream",
     "text": [
      "Wall time: 16min 11s\n"
     ]
    }
   ],
   "source": [
    "%%time\n",
    "n_of_triangles = tls.number_of_triangles(G)"
   ]
  },
  {
   "cell_type": "code",
   "execution_count": 30,
   "id": "c6f6ff9b",
   "metadata": {},
   "outputs": [
    {
     "name": "stdout",
     "output_type": "stream",
     "text": [
      "Wall time: 12min 3s\n"
     ]
    }
   ],
   "source": [
    "%%time\n",
    "average_cluster_coef = tls.average_clustering_coefficient(G)"
   ]
  },
  {
   "cell_type": "code",
   "execution_count": 31,
   "id": "2ee751f2",
   "metadata": {},
   "outputs": [
    {
     "name": "stdout",
     "output_type": "stream",
     "text": [
      "Wall time: 12min 16s\n"
     ]
    }
   ],
   "source": [
    "%%time\n",
    "global_cluster_coef = tls.global_clustering_coefficient(G)"
   ]
  },
  {
   "cell_type": "code",
   "execution_count": 32,
   "id": "8d872213",
   "metadata": {},
   "outputs": [
    {
     "name": "stdout",
     "output_type": "stream",
     "text": [
      "Число треугольников (K_3) в графе: 13391903\n",
      "Средний кластерный коэффициент сети: 0.5142961475353683\n",
      "Глобальный кластерный коэффициент сети: 0.0552306264884374\n"
     ]
    }
   ],
   "source": [
    "print(f'Число треугольников (K_3) в графе: {n_of_triangles}')\n",
    "print(f'Средний кластерный коэффициент сети: {average_cluster_coef}')\n",
    "print(f'Глобальный кластерный коэффициент сети: {global_cluster_coef}')"
   ]
  }
 ],
 "metadata": {
  "kernelspec": {
   "display_name": "Python 3",
   "language": "python",
   "name": "python3"
  },
  "language_info": {
   "codemirror_mode": {
    "name": "ipython",
    "version": 3
   },
   "file_extension": ".py",
   "mimetype": "text/x-python",
   "name": "python",
   "nbconvert_exporter": "python",
   "pygments_lexer": "ipython3",
   "version": "3.8.8"
  },
  "toc": {
   "base_numbering": 1,
   "nav_menu": {},
   "number_sections": true,
   "sideBar": true,
   "skip_h1_title": false,
   "title_cell": "Table of Contents",
   "title_sidebar": "Contents",
   "toc_cell": false,
   "toc_position": {},
   "toc_section_display": true,
   "toc_window_display": false
  }
 },
 "nbformat": 4,
 "nbformat_minor": 5
}
