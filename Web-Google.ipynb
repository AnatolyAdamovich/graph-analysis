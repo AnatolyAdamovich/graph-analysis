{
 "cells": [
  {
   "cell_type": "markdown",
   "id": "9eca32d2",
   "metadata": {},
   "source": [
    "# Библиотеки, функции"
   ]
  },
  {
   "cell_type": "code",
   "execution_count": 20,
   "id": "1b712797",
   "metadata": {},
   "outputs": [],
   "source": [
    "import graphlib.structures as struct\n",
    "import graphlib.algorithms as alg\n",
    "import graphlib.tools as tls"
   ]
  },
  {
   "cell_type": "markdown",
   "id": "bda5fdde",
   "metadata": {},
   "source": [
    "# Загрузка данных, количество ребер и вершин"
   ]
  },
  {
   "cell_type": "code",
   "execution_count": 8,
   "id": "dee939b8",
   "metadata": {},
   "outputs": [
    {
     "name": "stdout",
     "output_type": "stream",
     "text": [
      "Ориентированный граф <Google> с 875713 вершинами and 5105039 ребрами\n",
      "Wall time: 7.21 s\n"
     ]
    }
   ],
   "source": [
    "%%time\n",
    "\n",
    "G = struct.Digraph('Google')\n",
    "with open('datasets/web-Google.txt', 'r') as f:\n",
    "    for line in f:        \n",
    "        u, v = line.split()\n",
    "        G.add_edge(u, v)\n",
    "        \n",
    "print(G)"
   ]
  },
  {
   "cell_type": "code",
   "execution_count": 9,
   "id": "6541e6f9",
   "metadata": {},
   "outputs": [
    {
     "name": "stdout",
     "output_type": "stream",
     "text": [
      "Граф <неориентированный граф, лежащий в основе Google> с 875713 вершинами and 4322051 ребрами\n",
      "Плотность графа: 4.627433740933122e-07\n"
     ]
    }
   ],
   "source": [
    "simple_graph = G.to_simple()\n",
    "print(simple_graph)\n",
    "print(f'Плотность графа: {tls.density(simple_graph)}')"
   ]
  },
  {
   "cell_type": "markdown",
   "id": "416c943b",
   "metadata": {},
   "source": [
    "# Выделение компонент слабой связности, характеристики наибольшей компоненты"
   ]
  },
  {
   "cell_type": "code",
   "execution_count": 31,
   "id": "9fe377ef",
   "metadata": {},
   "outputs": [
    {
     "name": "stdout",
     "output_type": "stream",
     "text": [
      "Число компонент слабой связности - 2746\n",
      "Наибольшая компонента связности: 855802 вершин и 5066842 ребер\n",
      "Доля вершин в наибольшей компоненте слабой связности: 0.977\n"
     ]
    }
   ],
   "source": [
    "number, largest_index, wcc = alg.weakly_components(G, largest=True)\n",
    "print(f'Число компонент слабой связности - {number}')\n",
    "\n",
    "largest_weak_component = G.subgraph(nodes=wcc[largest_index])\n",
    "print(f'Наибольшая компонента связности: {largest_weak_component.nodes_count} вершин и {largest_weak_component.edges_count} ребер')\n",
    "print(f'Доля вершин в наибольшей компоненте слабой связности: {round(largest_weak_component.nodes_count / simple_graph.nodes_count, 3)}')"
   ]
  },
  {
   "cell_type": "markdown",
   "id": "54e06a48",
   "metadata": {},
   "source": [
    "# Выделение компонент сильной связности"
   ]
  },
  {
   "cell_type": "code",
   "execution_count": 28,
   "id": "8119d3b2",
   "metadata": {},
   "outputs": [
    {
     "name": "stdout",
     "output_type": "stream",
     "text": [
      "Число компонент сильной связности:  371764\n",
      "Наибольшая компонента сильной связности состоит из 434818 вершин и 3419124 ребер\n",
      "Доля вершин в наибольшей компоненте слабой связности: 0.497\n"
     ]
    }
   ],
   "source": [
    "scc = list(alg.strongly_components_tarjan(G))\n",
    "print('Число компонент сильной связности: ', len(scc))\n",
    "\n",
    "largest_strong_component = G.subgraph(nodes=list(max(scc, key=lambda elem: len(elem))))\n",
    "print(f'Наибольшая компонента сильной связности состоит из {largest_strong_component.nodes_count} вершин и {largest_strong_component.edges_count} ребер')\n",
    "print(f'Доля вершин в наибольшей компоненте слабой связности: {round(largest_strong_component.nodes_count / G.nodes_count, 3)}')"
   ]
  },
  {
   "cell_type": "markdown",
   "id": "c9ef4441",
   "metadata": {},
   "source": [
    "# Мета-граф"
   ]
  },
  {
   "cell_type": "code",
   "execution_count": null,
   "id": "761cf083",
   "metadata": {},
   "outputs": [],
   "source": []
  },
  {
   "cell_type": "code",
   "execution_count": null,
   "id": "dfc7f1f4",
   "metadata": {},
   "outputs": [],
   "source": []
  },
  {
   "cell_type": "markdown",
   "id": "c0667c81",
   "metadata": {},
   "source": [
    "# Метрические свойства наибольшей компоненты слабой связности: радиус, диаметр и 90 процентиль (approximation)"
   ]
  },
  {
   "cell_type": "code",
   "execution_count": null,
   "id": "035c3c08",
   "metadata": {},
   "outputs": [],
   "source": [
    "%%time\n",
    "largest_component = largest_weak_component.to_simple()\n",
    "\n",
    "diam = diameter_approximate(graph=largest_component,\n",
    "                            number=500)\n",
    "print(f'Диаметр наибольшей компоненты (приближенно): {diam}')\n",
    "\n",
    "radius = radius_approximate(graph=largest_component,\n",
    "                            number=500)\n",
    "print(f'Радиус наибольшей компоненты (приближенно): {radius}')\n",
    "\n",
    "percentile = geodesic_percentile_approximate(graph=largest_component,\n",
    "                                             number=500,\n",
    "                                             percent=90)\n",
    "print(f'90% процентиль геодезического расстояния в наибольшей компоненте (приближенно): {percentile}')"
   ]
  },
  {
   "cell_type": "code",
   "execution_count": null,
   "id": "6a3e79da",
   "metadata": {},
   "outputs": [],
   "source": []
  }
 ],
 "metadata": {
  "kernelspec": {
   "display_name": "Python 3",
   "language": "python",
   "name": "python3"
  },
  "language_info": {
   "codemirror_mode": {
    "name": "ipython",
    "version": 3
   },
   "file_extension": ".py",
   "mimetype": "text/x-python",
   "name": "python",
   "nbconvert_exporter": "python",
   "pygments_lexer": "ipython3",
   "version": "3.8.8"
  },
  "toc": {
   "base_numbering": 1,
   "nav_menu": {},
   "number_sections": true,
   "sideBar": true,
   "skip_h1_title": false,
   "title_cell": "Table of Contents",
   "title_sidebar": "Contents",
   "toc_cell": false,
   "toc_position": {},
   "toc_section_display": true,
   "toc_window_display": false
  }
 },
 "nbformat": 4,
 "nbformat_minor": 5
}
