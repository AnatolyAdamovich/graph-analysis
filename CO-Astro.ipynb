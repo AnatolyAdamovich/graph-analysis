{
 "cells": [
  {
   "cell_type": "markdown",
   "id": "35636475",
   "metadata": {},
   "source": [
    "# Функции и библиотеки"
   ]
  },
  {
   "cell_type": "code",
   "execution_count": 5,
   "id": "78879031",
   "metadata": {},
   "outputs": [],
   "source": [
    "from graphlib.structures import Graph\n",
    "from graphlib.algorithms import DFS_with_cc, BFS_search\n",
    "from graphlib.tools import radius_approximate, diameter_approximate, density"
   ]
  },
  {
   "cell_type": "markdown",
   "id": "3cac5c31",
   "metadata": {},
   "source": [
    "# Загрузка данных, количество ребер и вершин; плотность"
   ]
  },
  {
   "cell_type": "code",
   "execution_count": 6,
   "id": "f6bf36d4",
   "metadata": {},
   "outputs": [
    {
     "name": "stdout",
     "output_type": "stream",
     "text": [
      "Graph <CO-Astro> with 18772 nodes and 198110 edges\n",
      "Плотность графа:  1.0095452503419835e-05\n",
      "Wall time: 546 ms\n"
     ]
    }
   ],
   "source": [
    "%%time\n",
    "\n",
    "G = Graph('CO-Astro')\n",
    "with open('./datasets/CA-AstroPh.txt', mode='r') as f:\n",
    "    for line in f:\n",
    "        u, v = line.split()\n",
    "        G.add_edge(u, v)\n",
    "print(G)\n",
    "\n",
    "print('Плотность графа: ', density(G))"
   ]
  },
  {
   "cell_type": "markdown",
   "id": "c8c1c013",
   "metadata": {},
   "source": [
    "# Количество компонент связности, характеристики наибольшей компоненты"
   ]
  },
  {
   "cell_type": "code",
   "execution_count": 4,
   "id": "bac66d7f",
   "metadata": {},
   "outputs": [
    {
     "name": "stdout",
     "output_type": "stream",
     "text": [
      "Наибольшая компонента состоит из 17903 вершин\n",
      "Graph <subgraph::CO-Astro> with 17903 nodes and 197031 edges\n",
      "Wall time: 167 ms\n"
     ]
    }
   ],
   "source": [
    "%%time\n",
    "\n",
    "number, largest_index, components = DFS_with_cc(G, largest=True)\n",
    "largest_component = G.subgraph(nodes=components[largest_index])\n",
    "largest_component._name = 'the largest component::CO-Astro'\n",
    "print(largest_component)\n",
    "\n",
    "print(f'Доля вершин в наибольшей компоненте: {round(largest_component.nodes_count / G.nodes_count, 3)}')"
   ]
  },
  {
   "cell_type": "markdown",
   "id": "b70be27c",
   "metadata": {},
   "source": [
    "# Метрические характеристики графа: диаметр, радиус и 90 процентиль (approximation)"
   ]
  },
  {
   "cell_type": "code",
   "execution_count": 5,
   "id": "fd6c593d",
   "metadata": {},
   "outputs": [],
   "source": [
    "nodes_for_evaluate = largest_component.random_selection(x=500)\n",
    "# print(nodes_for_evaluate)"
   ]
  },
  {
   "cell_type": "code",
   "execution_count": 6,
   "id": "882126cf",
   "metadata": {},
   "outputs": [
    {
     "data": {
      "text/plain": [
       "(10, '90000', '72819')"
      ]
     },
     "execution_count": 6,
     "metadata": {},
     "output_type": "execute_result"
    }
   ],
   "source": [
    "diameter_approximate(largest_component, nodes=nodes_for_evaluate, with_nodes=True)"
   ]
  },
  {
   "cell_type": "code",
   "execution_count": 8,
   "id": "b7c94365",
   "metadata": {},
   "outputs": [
    {
     "data": {
      "text/plain": [
       "['90000',\n",
       " '72402',\n",
       " '69877',\n",
       " '103216',\n",
       " '119833',\n",
       " '109894',\n",
       " '17837',\n",
       " '7428',\n",
       " '86304',\n",
       " '100404',\n",
       " '72819']"
      ]
     },
     "execution_count": 8,
     "metadata": {},
     "output_type": "execute_result"
    }
   ],
   "source": [
    "BFS_search(largest_component, '90000', '72819')"
   ]
  },
  {
   "cell_type": "code",
   "execution_count": null,
   "id": "27b01b27",
   "metadata": {},
   "outputs": [],
   "source": []
  }
 ],
 "metadata": {
  "kernelspec": {
   "display_name": "Python 3",
   "language": "python",
   "name": "python3"
  },
  "language_info": {
   "codemirror_mode": {
    "name": "ipython",
    "version": 3
   },
   "file_extension": ".py",
   "mimetype": "text/x-python",
   "name": "python",
   "nbconvert_exporter": "python",
   "pygments_lexer": "ipython3",
   "version": "3.8.8"
  },
  "toc": {
   "base_numbering": 1,
   "nav_menu": {},
   "number_sections": true,
   "sideBar": true,
   "skip_h1_title": false,
   "title_cell": "Table of Contents",
   "title_sidebar": "Contents",
   "toc_cell": false,
   "toc_position": {},
   "toc_section_display": true,
   "toc_window_display": false
  }
 },
 "nbformat": 4,
 "nbformat_minor": 5
}
