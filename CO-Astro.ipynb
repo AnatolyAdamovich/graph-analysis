{
 "cells": [
  {
   "cell_type": "code",
   "execution_count": 1,
   "id": "78879031",
   "metadata": {},
   "outputs": [],
   "source": [
    "from graphlib.structures import Graph\n",
    "from graphlib.algorithms import DFS_with_cc, BFS_search\n",
    "from graphlib.tools import radius_approximate, diameter_approximate"
   ]
  },
  {
   "cell_type": "code",
   "execution_count": 2,
   "id": "f6bf36d4",
   "metadata": {},
   "outputs": [
    {
     "name": "stdout",
     "output_type": "stream",
     "text": [
      "Graph <CO-Astro> with 18772 nodes and 198110 edges\n",
      "Wall time: 544 ms\n"
     ]
    }
   ],
   "source": [
    "%%time\n",
    "\n",
    "G = Graph('CO-Astro')\n",
    "with open('./datasets/CA-AstroPh.txt', mode='r') as f:\n",
    "    for line in f:\n",
    "        u, v = line.split()\n",
    "        G.add_edge(int(u), int(v))\n",
    "print(G)"
   ]
  },
  {
   "cell_type": "code",
   "execution_count": 3,
   "id": "bac66d7f",
   "metadata": {},
   "outputs": [
    {
     "name": "stdout",
     "output_type": "stream",
     "text": [
      "Наибольшая компонента состоит из 17903 вершин\n",
      "Graph <subgraph::CO-Astro> with 17903 nodes and 197031 edges\n",
      "Wall time: 127 ms\n"
     ]
    }
   ],
   "source": [
    "%%time\n",
    "\n",
    "number, largest_index, components = DFS_with_cc(G, largest=True)\n",
    "print(f'Наибольшая компонента состоит из {len(components[largest_index])} вершин')\n",
    "largest_component = G.subgraph(nodes=components[largest_index])\n",
    "print(largest_component)"
   ]
  },
  {
   "cell_type": "code",
   "execution_count": 4,
   "id": "fd6c593d",
   "metadata": {},
   "outputs": [
    {
     "name": "stdout",
     "output_type": "stream",
     "text": [
      "[68025, 747, 131215, 126491, 34890, 109268, 51594, 116605, 119616, 79297, 8953, 49130, 15352, 64679, 63022, 296, 63171, 28239, 36608, 27175, 51015, 112868, 94726, 34085, 16303, 31345, 122817, 118173, 73207, 31878, 80496, 24079, 22528, 44467, 44623, 124056, 119434, 57988, 12504, 107023, 26325, 108289, 30007, 66518, 14804, 108207, 105621, 25533, 115965, 83835, 106340, 18444, 4971, 79413, 114790, 88349, 128370, 27147, 64860, 122431, 121891, 2417, 93689, 22834, 19395, 124682, 67090, 32051, 94817, 23893]\n"
     ]
    }
   ],
   "source": [
    "#nodes_for_evaluate = largest_component.random_selection(x=70)\n",
    "nodes_for_evaluate = [68025, 747, 131215, 126491, 34890, 109268, 51594, 116605, 119616, 79297, 8953, 49130, 15352, 64679, 63022, 296, 63171, 28239, 36608, 27175, 51015, 112868, 94726, 34085, 16303, 31345, 122817, 118173, 73207, 31878, 80496, 24079, 22528, 44467, 44623, 124056, 119434, 57988, 12504, 107023, 26325, 108289, 30007, 66518, 14804, 108207, 105621, 25533, 115965, 83835, 106340, 18444, 4971, 79413, 114790, 88349, 128370, 27147, 64860, 122431, 121891, 2417, 93689, 22834, 19395, 124682, 67090, 32051, 94817, 23893]\n",
    "print(nodes_for_evaluate)"
   ]
  },
  {
   "cell_type": "code",
   "execution_count": 5,
   "id": "882126cf",
   "metadata": {},
   "outputs": [
    {
     "data": {
      "text/plain": [
       "(8, 31345, 79413)"
      ]
     },
     "execution_count": 5,
     "metadata": {},
     "output_type": "execute_result"
    }
   ],
   "source": [
    "diameter_approximate(largest_component, nodes=nodes_for_evaluate, with_nodes=True)"
   ]
  },
  {
   "cell_type": "code",
   "execution_count": 6,
   "id": "85143b4d",
   "metadata": {},
   "outputs": [
    {
     "data": {
      "text/plain": [
       "(3, 94817, 23893)"
      ]
     },
     "execution_count": 6,
     "metadata": {},
     "output_type": "execute_result"
    }
   ],
   "source": [
    "radius_approximate(largest_component, nodes=nodes_for_evaluate, with_nodes=True)"
   ]
  }
 ],
 "metadata": {
  "kernelspec": {
   "display_name": "Python 3",
   "language": "python",
   "name": "python3"
  },
  "language_info": {
   "codemirror_mode": {
    "name": "ipython",
    "version": 3
   },
   "file_extension": ".py",
   "mimetype": "text/x-python",
   "name": "python",
   "nbconvert_exporter": "python",
   "pygments_lexer": "ipython3",
   "version": "3.8.8"
  },
  "toc": {
   "base_numbering": 1,
   "nav_menu": {},
   "number_sections": true,
   "sideBar": true,
   "skip_h1_title": false,
   "title_cell": "Table of Contents",
   "title_sidebar": "Contents",
   "toc_cell": false,
   "toc_position": {},
   "toc_section_display": true,
   "toc_window_display": false
  }
 },
 "nbformat": 4,
 "nbformat_minor": 5
}
