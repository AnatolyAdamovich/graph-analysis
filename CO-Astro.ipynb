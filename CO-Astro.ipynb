{
 "cells": [
  {
   "cell_type": "code",
   "execution_count": 9,
   "id": "78879031",
   "metadata": {},
   "outputs": [],
   "source": [
    "from graphlib.structures import Graph\n",
    "from graphlib.algorithms import DFS_with_cc, BFS_search\n",
    "from graphlib.tools import radius, diameter"
   ]
  },
  {
   "cell_type": "code",
   "execution_count": 3,
   "id": "f6bf36d4",
   "metadata": {},
   "outputs": [
    {
     "name": "stdout",
     "output_type": "stream",
     "text": [
      "Graph <CO-Astro> with 18772 nodes and 198110 edges\n",
      "Wall time: 872 ms\n"
     ]
    }
   ],
   "source": [
    "%%time\n",
    "\n",
    "G = Graph('CO-Astro')\n",
    "with open('./datasets/CA-AstroPh.txt', mode='r') as f:\n",
    "    for line in f:\n",
    "        u, v = line.split()\n",
    "        G.add_edge(int(u), int(v))\n",
    "print(G)"
   ]
  },
  {
   "cell_type": "code",
   "execution_count": 4,
   "id": "bac66d7f",
   "metadata": {},
   "outputs": [
    {
     "name": "stdout",
     "output_type": "stream",
     "text": [
      "Наибольшая компонента состоит из 17903 вершин\n",
      "Graph <subgraph::CO-Astro> with 17903 nodes and 197031 edges\n",
      "Wall time: 185 ms\n"
     ]
    }
   ],
   "source": [
    "%%time\n",
    "\n",
    "number, largest_index, components = DFS_with_cc(G, largest=True)\n",
    "print(f'Наибольшая компонента состоит из {len(components[largest_index])} вершин')\n",
    "largest_component = G.subgraph(nodes=components[largest_index])\n",
    "print(largest_component)"
   ]
  },
  {
   "cell_type": "code",
   "execution_count": 14,
   "id": "ad41205d",
   "metadata": {},
   "outputs": [
    {
     "name": "stdout",
     "output_type": "stream",
     "text": [
      "(1, 2)\n",
      "(1, 3)\n",
      "(1, 4)\n",
      "(2, 3)\n",
      "(2, 4)\n",
      "(3, 4)\n"
     ]
    }
   ],
   "source": [
    "from itertools import permutations, combinations\n",
    "for i in combinations([1,2,3, 4], 2):\n",
    "    print(i)"
   ]
  },
  {
   "cell_type": "code",
   "execution_count": 11,
   "id": "94a85e4a",
   "metadata": {},
   "outputs": [
    {
     "data": {
      "text/plain": [
       "[36907, 106274, 30625, 54608]"
      ]
     },
     "execution_count": 11,
     "metadata": {},
     "output_type": "execute_result"
    }
   ],
   "source": [
    "list(BFS_search(largest_component, 36907, 54608))"
   ]
  },
  {
   "cell_type": "code",
   "execution_count": null,
   "id": "2fad6035",
   "metadata": {},
   "outputs": [],
   "source": []
  }
 ],
 "metadata": {
  "kernelspec": {
   "display_name": "Python 3",
   "language": "python",
   "name": "python3"
  },
  "language_info": {
   "codemirror_mode": {
    "name": "ipython",
    "version": 3
   },
   "file_extension": ".py",
   "mimetype": "text/x-python",
   "name": "python",
   "nbconvert_exporter": "python",
   "pygments_lexer": "ipython3",
   "version": "3.8.8"
  },
  "toc": {
   "base_numbering": 1,
   "nav_menu": {},
   "number_sections": true,
   "sideBar": true,
   "skip_h1_title": false,
   "title_cell": "Table of Contents",
   "title_sidebar": "Contents",
   "toc_cell": false,
   "toc_position": {},
   "toc_section_display": true,
   "toc_window_display": false
  }
 },
 "nbformat": 4,
 "nbformat_minor": 5
}
