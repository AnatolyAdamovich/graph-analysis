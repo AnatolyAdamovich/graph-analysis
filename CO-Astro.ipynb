{
 "cells": [
  {
   "cell_type": "code",
   "execution_count": 5,
   "id": "78879031",
   "metadata": {},
   "outputs": [],
   "source": [
    "from graphlib.structures import Graph\n",
    "from graphlib.algorithms import DFS_with_cc"
   ]
  },
  {
   "cell_type": "code",
   "execution_count": 6,
   "id": "f6bf36d4",
   "metadata": {},
   "outputs": [
    {
     "name": "stdout",
     "output_type": "stream",
     "text": [
      "Graph <CO-Astro> with 18772 nodes and 198110 edges\n",
      "Wall time: 531 ms\n"
     ]
    }
   ],
   "source": [
    "%%time\n",
    "\n",
    "G = Graph('CO-Astro')\n",
    "with open('./datasets/CA-AstroPh.txt', mode='r') as f:\n",
    "    for line in f:\n",
    "        u, v = line.split()\n",
    "        G.add_edge(int(u), int(v))\n",
    "print(G)"
   ]
  },
  {
   "cell_type": "code",
   "execution_count": 7,
   "id": "bac66d7f",
   "metadata": {},
   "outputs": [
    {
     "name": "stdout",
     "output_type": "stream",
     "text": [
      "Наибольшая компонента состоит из 17903 вершин\n",
      "Wall time: 56.9 ms\n"
     ]
    }
   ],
   "source": [
    "%%time\n",
    "\n",
    "number, largest_num, components = DFS_with_cc(G, largest=True)\n",
    "print(f'Наибольшая компонента состоит из {len(components[largest_num])} вершин')"
   ]
  }
 ],
 "metadata": {
  "kernelspec": {
   "display_name": "Python 3",
   "language": "python",
   "name": "python3"
  },
  "language_info": {
   "codemirror_mode": {
    "name": "ipython",
    "version": 3
   },
   "file_extension": ".py",
   "mimetype": "text/x-python",
   "name": "python",
   "nbconvert_exporter": "python",
   "pygments_lexer": "ipython3",
   "version": "3.8.8"
  },
  "toc": {
   "base_numbering": 1,
   "nav_menu": {},
   "number_sections": true,
   "sideBar": true,
   "skip_h1_title": false,
   "title_cell": "Table of Contents",
   "title_sidebar": "Contents",
   "toc_cell": false,
   "toc_position": {},
   "toc_section_display": true,
   "toc_window_display": false
  }
 },
 "nbformat": 4,
 "nbformat_minor": 5
}
