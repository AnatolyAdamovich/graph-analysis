{
 "cells": [
  {
   "cell_type": "code",
   "execution_count": 1,
   "id": "976b1b39",
   "metadata": {},
   "outputs": [],
   "source": [
    "from graphlib.structures import Graph\n",
    "from graphlib.algorithms import DFS_with_cc"
   ]
  },
  {
   "cell_type": "code",
   "execution_count": 2,
   "id": "d1a4c0ff",
   "metadata": {},
   "outputs": [
    {
     "name": "stdout",
     "output_type": "stream",
     "text": [
      "Graph <Example> with 9 nodes and 7 edges\n"
     ]
    }
   ],
   "source": [
    "G = Graph(name='Example', nodes=[3, 10, 20, 0, 60, 11, 8, 6, 23],\n",
    "         edges=[(10, 0), (20, 10), (20, 3), (0, 60), (8, 11), (6, 11), (6, 8)])\n",
    "\n",
    "# G.add_edge(10, 0)\n",
    "# G.add_edge(20, 10)\n",
    "# G.add_edge(20, 3)\n",
    "# G.add_edge(0, 60)\n",
    "\n",
    "# G.add_edge(8, 11)\n",
    "# G.add_edge(6, 11)\n",
    "# G.add_edge(6, 8)\n",
    "\n",
    "print(G)"
   ]
  },
  {
   "cell_type": "code",
   "execution_count": 3,
   "id": "46c955b6",
   "metadata": {},
   "outputs": [
    {
     "name": "stdout",
     "output_type": "stream",
     "text": [
      "Число компонент - 3\n",
      "Компоненты:\n",
      "{1: {0, 3, 10, 20, 60}, 2: {8, 11, 6}, 3: {23}}\n",
      "Наибольшая компонента:\n",
      "{0, 3, 10, 20, 60}\n"
     ]
    }
   ],
   "source": [
    "number, largest_num, components = DFS_with_cc(G, largest=True)\n",
    "print(f'Число компонент - {number}')\n",
    "print(f'Компоненты:\\n{components}')\n",
    "print(f'Наибольшая компонента:\\n{components[largest_num]}')"
   ]
  },
  {
   "cell_type": "code",
   "execution_count": 4,
   "id": "2ae3a6f0",
   "metadata": {},
   "outputs": [
    {
     "name": "stdout",
     "output_type": "stream",
     "text": [
      "Graph <subgraph::Example> with 5 nodes and 4 edges\n"
     ]
    }
   ],
   "source": [
    "# наибольшая компонента\n",
    "largest_component = G.subgraph(nodes=[0, 3, 10, 20, 60])\n",
    "print(largest_component)"
   ]
  },
  {
   "cell_type": "code",
   "execution_count": 5,
   "id": "215e5bd7",
   "metadata": {},
   "outputs": [
    {
     "name": "stdout",
     "output_type": "stream",
     "text": [
      "Вершины наибольшей компоненты:  {0, 3, 20, 10, 60}\n",
      "Ребра наибольшей компоненты:  {0: [10, 60], 3: [20], 10: [0, 20], 20: [10, 3], 60: [0]}\n"
     ]
    }
   ],
   "source": [
    "print('Вершины наибольшей компоненты: ', largest_component.nodes)\n",
    "print('Ребра наибольшей компоненты: ', largest_component.edges)"
   ]
  },
  {
   "cell_type": "code",
   "execution_count": 6,
   "id": "a2861fb6",
   "metadata": {},
   "outputs": [
    {
     "data": {
      "text/plain": [
       "[20, 0, 60]"
      ]
     },
     "execution_count": 6,
     "metadata": {},
     "output_type": "execute_result"
    }
   ],
   "source": [
    "# случайный выбор 3х вершин из наибольшей компоненты\n",
    "largest_component.random_selection(3)"
   ]
  }
 ],
 "metadata": {
  "kernelspec": {
   "display_name": "Python 3",
   "language": "python",
   "name": "python3"
  },
  "language_info": {
   "codemirror_mode": {
    "name": "ipython",
    "version": 3
   },
   "file_extension": ".py",
   "mimetype": "text/x-python",
   "name": "python",
   "nbconvert_exporter": "python",
   "pygments_lexer": "ipython3",
   "version": "3.8.8"
  },
  "toc": {
   "base_numbering": 1,
   "nav_menu": {},
   "number_sections": true,
   "sideBar": true,
   "skip_h1_title": false,
   "title_cell": "Table of Contents",
   "title_sidebar": "Contents",
   "toc_cell": false,
   "toc_position": {},
   "toc_section_display": true,
   "toc_window_display": false
  }
 },
 "nbformat": 4,
 "nbformat_minor": 5
}
