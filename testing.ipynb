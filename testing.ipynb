{
 "cells": [
  {
   "cell_type": "code",
   "execution_count": 3,
   "id": "976b1b39",
   "metadata": {},
   "outputs": [],
   "source": [
    "from graphlib.structures import Graph\n",
    "from graphlib.algorithms import DFS_with_cc"
   ]
  },
  {
   "cell_type": "code",
   "execution_count": 4,
   "id": "d1a4c0ff",
   "metadata": {},
   "outputs": [
    {
     "name": "stdout",
     "output_type": "stream",
     "text": [
      "Graph <Example> with 9 nodes and 7 edges\n"
     ]
    }
   ],
   "source": [
    "G = Graph(name='Example', nodes=[3, 10, 20, 0, 60, 11, 8, 6, 23])\n",
    "\n",
    "G.add_edge(10, 0)\n",
    "G.add_edge(20, 10)\n",
    "G.add_edge(20, 3)\n",
    "G.add_edge(0, 60)\n",
    "\n",
    "G.add_edge(8, 11)\n",
    "G.add_edge(6, 11)\n",
    "G.add_edge(6, 8)\n",
    "\n",
    "print(G)"
   ]
  },
  {
   "cell_type": "code",
   "execution_count": null,
   "id": "46c955b6",
   "metadata": {},
   "outputs": [],
   "source": [
    "number, largest_c, components = DFS_with_cc(G, largest=True)\n",
    "print(f'Число компонент - {number}')\n",
    "print(f'Число компонент - {number}')"
   ]
  }
 ],
 "metadata": {
  "kernelspec": {
   "display_name": "Python 3",
   "language": "python",
   "name": "python3"
  },
  "language_info": {
   "codemirror_mode": {
    "name": "ipython",
    "version": 3
   },
   "file_extension": ".py",
   "mimetype": "text/x-python",
   "name": "python",
   "nbconvert_exporter": "python",
   "pygments_lexer": "ipython3",
   "version": "3.8.8"
  },
  "toc": {
   "base_numbering": 1,
   "nav_menu": {},
   "number_sections": true,
   "sideBar": true,
   "skip_h1_title": false,
   "title_cell": "Table of Contents",
   "title_sidebar": "Contents",
   "toc_cell": false,
   "toc_position": {},
   "toc_section_display": true,
   "toc_window_display": false
  }
 },
 "nbformat": 4,
 "nbformat_minor": 5
}
